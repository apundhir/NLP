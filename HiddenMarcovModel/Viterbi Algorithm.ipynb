{
 "cells": [
  {
   "cell_type": "markdown",
   "metadata": {},
   "source": [
    "## POS Tagging using Viterbi Algorithm"
   ]
  },
  {
   "cell_type": "markdown",
   "metadata": {},
   "source": [
    "## In this notebook, I have tried to implement viterbi algorithm and have used it in parts of speech tagging usecase."
   ]
  },
  {
   "cell_type": "code",
   "execution_count": 1,
   "metadata": {},
   "outputs": [],
   "source": [
    "#Importing libraries\n",
    "import nltk\n",
    "import random\n",
    "import numpy as np\n",
    "import pandas as pd\n",
    "import matplotlib.pylab as plt \n",
    "import seaborn as sns\n",
    "import pprint, time\n",
    "from sklearn.model_selection import train_test_split"
   ]
  },
  {
   "cell_type": "code",
   "execution_count": 24,
   "metadata": {},
   "outputs": [],
   "source": [
    "# reading the Treebank tagged sentences\n",
    "nltk_data = list(nltk.corpus.treebank.tagged_sents(tagset='universal'))"
   ]
  },
  {
   "cell_type": "code",
   "execution_count": 25,
   "metadata": {},
   "outputs": [
    {
     "name": "stdout",
     "output_type": "stream",
     "text": [
      "[[('Pierre', 'NOUN'), ('Vinken', 'NOUN'), (',', '.'), ('61', 'NUM'), ('years', 'NOUN'), ('old', 'ADJ'), (',', '.'), ('will', 'VERB'), ('join', 'VERB'), ('the', 'DET'), ('board', 'NOUN'), ('as', 'ADP'), ('a', 'DET'), ('nonexecutive', 'ADJ'), ('director', 'NOUN'), ('Nov.', 'NOUN'), ('29', 'NUM'), ('.', '.')], [('Mr.', 'NOUN'), ('Vinken', 'NOUN'), ('is', 'VERB'), ('chairman', 'NOUN'), ('of', 'ADP'), ('Elsevier', 'NOUN'), ('N.V.', 'NOUN'), (',', '.'), ('the', 'DET'), ('Dutch', 'NOUN'), ('publishing', 'VERB'), ('group', 'NOUN'), ('.', '.')], [('Rudolph', 'NOUN'), ('Agnew', 'NOUN'), (',', '.'), ('55', 'NUM'), ('years', 'NOUN'), ('old', 'ADJ'), ('and', 'CONJ'), ('former', 'ADJ'), ('chairman', 'NOUN'), ('of', 'ADP'), ('Consolidated', 'NOUN'), ('Gold', 'NOUN'), ('Fields', 'NOUN'), ('PLC', 'NOUN'), (',', '.'), ('was', 'VERB'), ('named', 'VERB'), ('*-1', 'X'), ('a', 'DET'), ('nonexecutive', 'ADJ'), ('director', 'NOUN'), ('of', 'ADP'), ('this', 'DET'), ('British', 'ADJ'), ('industrial', 'ADJ'), ('conglomerate', 'NOUN'), ('.', '.')], [('A', 'DET'), ('form', 'NOUN'), ('of', 'ADP'), ('asbestos', 'NOUN'), ('once', 'ADV'), ('used', 'VERB'), ('*', 'X'), ('*', 'X'), ('to', 'PRT'), ('make', 'VERB'), ('Kent', 'NOUN'), ('cigarette', 'NOUN'), ('filters', 'NOUN'), ('has', 'VERB'), ('caused', 'VERB'), ('a', 'DET'), ('high', 'ADJ'), ('percentage', 'NOUN'), ('of', 'ADP'), ('cancer', 'NOUN'), ('deaths', 'NOUN'), ('among', 'ADP'), ('a', 'DET'), ('group', 'NOUN'), ('of', 'ADP'), ('workers', 'NOUN'), ('exposed', 'VERB'), ('*', 'X'), ('to', 'PRT'), ('it', 'PRON'), ('more', 'ADV'), ('than', 'ADP'), ('30', 'NUM'), ('years', 'NOUN'), ('ago', 'ADP'), (',', '.'), ('researchers', 'NOUN'), ('reported', 'VERB'), ('0', 'X'), ('*T*-1', 'X'), ('.', '.')]]\n"
     ]
    }
   ],
   "source": [
    "print(nltk_data[:4])"
   ]
  },
  {
   "cell_type": "code",
   "execution_count": 26,
   "metadata": {},
   "outputs": [
    {
     "data": {
      "text/plain": [
       "3914"
      ]
     },
     "execution_count": 26,
     "metadata": {},
     "output_type": "execute_result"
    }
   ],
   "source": [
    "len(nltk_data)"
   ]
  },
  {
   "cell_type": "code",
   "execution_count": 27,
   "metadata": {
    "scrolled": false
   },
   "outputs": [
    {
     "name": "stdout",
     "output_type": "stream",
     "text": [
      "3718\n",
      "196\n",
      "[[('In', 'ADP'), ('a', 'DET'), ('number', 'NOUN'), ('of', 'ADP'), ('recent', 'ADJ'), ('cases', 'NOUN'), (',', '.'), ('federal', 'ADJ'), ('courts', 'NOUN'), ('have', 'VERB'), ('refused', 'VERB'), ('*-1', 'X'), ('to', 'PRT'), ('recognize', 'VERB'), ('attorneys', 'NOUN'), (\"'\", 'PRT'), ('assertions', 'NOUN'), ('that', 'ADP'), ('information', 'NOUN'), ('relating', 'VERB'), ('to', 'PRT'), ('fees', 'NOUN'), ('from', 'ADP'), ('clients', 'NOUN'), ('should', 'VERB'), ('be', 'VERB'), ('confidential', 'ADJ'), ('.', '.')], [('Chrysler', 'NOUN'), ('said', 'VERB'), ('0', 'X'), ('its', 'PRON'), ('trucks', 'NOUN'), ('and', 'CONJ'), ('vans', 'NOUN'), ('already', 'ADV'), ('meet', 'VERB'), ('the', 'DET'), ('roof-crush', 'ADJ'), ('resistance', 'NOUN'), ('standard', 'NOUN'), ('for', 'ADP'), ('cars', 'NOUN'), ('.', '.')], [('Critics', 'NOUN'), ('say', 'VERB'), ('0', 'X'), ('South', 'NOUN'), ('Carolina', 'NOUN'), ('is', 'VERB'), ('paying', 'VERB'), ('a', 'DET'), ('price', 'NOUN'), ('by', 'ADP'), ('*', 'X'), ('stressing', 'VERB'), ('improved', 'VERB'), ('test', 'NOUN'), ('scores', 'NOUN'), ('so', 'ADV'), ('much', 'ADV'), ('.', '.')], [('LANDOR', 'NOUN'), ('ASSOCIATES', 'NOUN'), (':', '.')], [('Stock-index', 'NOUN'), ('futures', 'NOUN'), ('--', '.'), ('Contracts', 'NOUN'), ('*', 'X'), ('to', 'PRT'), ('buy', 'VERB'), ('or', 'CONJ'), ('sell', 'VERB'), ('the', 'DET'), ('cash', 'NOUN'), ('value', 'NOUN'), ('of', 'ADP'), ('a', 'DET'), ('stock', 'NOUN'), ('index', 'NOUN'), ('by', 'ADP'), ('a', 'DET'), ('certain', 'ADJ'), ('date', 'NOUN'), ('.', '.')], [('The', 'DET'), ('record', 'ADJ'), ('price', 'NOUN'), ('for', 'ADP'), ('a', 'DET'), ('full', 'ADJ'), ('membership', 'NOUN'), ('on', 'ADP'), ('the', 'DET'), ('exchange', 'NOUN'), ('is', 'VERB'), ('$', '.'), ('550,000', 'NUM'), ('*U*', 'X'), (',', '.'), ('*-2', 'X'), ('set', 'VERB'), ('*-1', 'X'), ('Aug.', 'NOUN'), ('31', 'NUM'), (',', '.'), ('1987', 'NUM'), ('.', '.')], [('Charities', 'NOUN'), ('test', 'VERB'), ('the', 'DET'), ('waters', 'NOUN'), (',', '.'), ('but', 'CONJ'), ('they', 'PRON'), ('face', 'VERB'), ('legal', 'ADJ'), ('barriers', 'NOUN'), ('to', 'PRT'), ('electronic', 'ADJ'), ('fund', 'NOUN'), ('raising', 'NOUN'), ('.', '.')], [('But', 'CONJ'), ('other', 'ADJ'), ('than', 'ADP'), ('the', 'DET'), ('fact', 'NOUN'), ('that', 'DET'), ('besuboru', 'X'), ('is', 'VERB'), ('played', 'VERB'), ('*-1', 'X'), ('with', 'ADP'), ('a', 'DET'), ('ball', 'NOUN'), ('and', 'CONJ'), ('a', 'DET'), ('bat', 'NOUN'), (',', '.'), ('it', 'PRON'), (\"'s\", 'VERB'), ('unrecognizable', 'ADJ'), (':', '.'), ('Fans', 'NOUN'), ('politely', 'ADV'), ('return', 'VERB'), ('foul', 'ADJ'), ('balls', 'NOUN'), ('to', 'PRT'), ('stadium', 'NOUN'), ('ushers', 'NOUN'), (';', '.'), ('the', 'DET'), ('strike', 'NOUN'), ('zone', 'NOUN'), ('expands', 'VERB'), ('depending', 'VERB'), ('on', 'ADP'), ('the', 'DET'), ('size', 'NOUN'), ('of', 'ADP'), ('the', 'DET'), ('hitter', 'NOUN'), (';', '.'), ('ties', 'NOUN'), ('are', 'VERB'), ('permitted', 'VERB'), ('*-2', 'X'), ('--', '.'), ('even', 'ADJ'), ('welcomed', 'VERB'), ('*-2', 'X'), ('--', '.'), ('since', 'ADP'), ('they', 'PRON'), ('honorably', 'ADV'), ('sidestep', 'VERB'), ('the', 'DET'), ('shame', 'NOUN'), ('of', 'ADP'), ('defeat', 'NOUN'), (';', '.'), ('players', 'NOUN'), ('must', 'VERB'), ('abide', 'VERB'), ('by', 'ADP'), ('strict', 'ADJ'), ('rules', 'NOUN'), ('of', 'ADP'), ('conduct', 'NOUN'), ('even', 'ADV'), ('in', 'ADP'), ('their', 'PRON'), ('personal', 'ADJ'), ('lives', 'NOUN'), ('--', '.'), ('players', 'NOUN'), ('for', 'ADP'), ('the', 'DET'), ('Tokyo', 'NOUN'), ('Giants', 'NOUN'), (',', '.'), ('for', 'ADP'), ('example', 'NOUN'), (',', '.'), ('must', 'VERB'), ('always', 'ADV'), ('wear', 'VERB'), ('ties', 'NOUN'), ('when', 'ADV'), ('on', 'ADP'), ('the', 'DET'), ('road', 'NOUN'), ('.', '.')], [('While', 'ADP'), ('the', 'DET'), ('small', 'ADJ'), ('deals', 'NOUN'), ('are', 'VERB'), ('far', 'ADV'), ('less', 'ADV'), ('conspicuous', 'ADJ'), (',', '.'), ('they', 'PRON'), ('add', 'VERB'), ('to', 'PRT'), ('Japanese', 'ADJ'), ('penetration', 'NOUN'), ('of', 'ADP'), ('the', 'DET'), ('U.S.', 'NOUN'), ('market', 'NOUN'), ('.', '.')], [('In', 'ADP'), ('electronics', 'NOUN'), (',', '.'), ('for', 'ADP'), ('example', 'NOUN'), (',', '.'), ('a', 'DET'), ('Japanese', 'ADJ'), ('company', 'NOUN'), ('might', 'VERB'), ('make', 'VERB'), ('television', 'NOUN'), ('picture', 'NOUN'), ('tubes', 'NOUN'), ('in', 'ADP'), ('Japan', 'NOUN'), (',', '.'), ('assemble', 'VERB'), ('the', 'DET'), ('sets', 'NOUN'), ('in', 'ADP'), ('Malaysia', 'NOUN'), ('and', 'CONJ'), ('export', 'VERB'), ('them', 'PRON'), ('to', 'PRT'), ('Indonesia', 'NOUN'), ('.', '.')], [('He', 'PRON'), ('said', 'VERB'), ('0', 'X'), ('Chrysler', 'NOUN'), ('fully', 'ADV'), ('expects', 'VERB'), ('*-1', 'X'), ('to', 'PRT'), ('have', 'VERB'), ('them', 'PRON'), ('installed', 'VERB'), ('*-2', 'X'), ('across', 'ADP'), ('its', 'PRON'), ('light-truck', 'ADJ'), ('line', 'NOUN'), ('by', 'ADP'), ('the', 'DET'), ('Sept.', 'NOUN'), ('1', 'NUM'), (',', '.'), ('1991', 'NUM'), (',', '.'), ('deadline', 'NOUN'), ('.', '.')], [('Silver', 'NOUN'), ('and', 'CONJ'), ('platinum', 'NOUN'), (',', '.'), ('which', 'DET'), ('*T*-1', 'X'), ('have', 'VERB'), ('more', 'ADJ'), ('of', 'ADP'), ('an', 'DET'), ('industrial', 'ADJ'), ('nature', 'NOUN'), ('than', 'ADP'), ('gold', 'NOUN'), (',', '.'), ('were', 'VERB'), ('even', 'ADV'), ('weaker', 'ADJ'), (',', '.'), ('he', 'PRON'), ('said', 'VERB'), ('0', 'X'), ('*T*-2', 'X'), ('.', '.')], [('He', 'PRON'), ('also', 'ADV'), ('is', 'VERB'), ('a', 'DET'), ('consensus', 'NOUN'), ('manager', 'NOUN'), (',', '.'), ('insiders', 'NOUN'), ('say', 'VERB'), ('0', 'X'), ('*T*-1', 'X'), ('.', '.')], [('Martin', 'NOUN'), ('Marietta', 'NOUN'), ('Corp.', 'NOUN'), ('was', 'VERB'), ('given', 'VERB'), ('*-166', 'X'), ('a', 'DET'), ('$', '.'), ('29.9', 'NUM'), ('million', 'NUM'), ('*U*', 'X'), ('Air', 'NOUN'), ('Force', 'NOUN'), ('contract', 'NOUN'), ('for', 'ADP'), ('low-altitude', 'NOUN'), ('navigation', 'NOUN'), ('and', 'CONJ'), ('targeting', 'VERB'), ('equipment', 'NOUN'), ('.', '.')], [('The', 'DET'), ('newly', 'ADV'), ('fattened', 'VERB'), ('premiums', 'NOUN'), ('reflect', 'VERB'), ('the', 'DET'), ('increasingly', 'ADV'), ('global', 'ADJ'), ('marketing', 'NOUN'), ('of', 'ADP'), ('some', 'DET'), ('country', 'NOUN'), ('funds', 'NOUN'), (',', '.'), ('Mr.', 'NOUN'), ('Porter', 'NOUN'), ('suggests', 'VERB'), ('0', 'X'), ('*T*-1', 'X'), ('.', '.')], [('William', 'NOUN'), ('Gates', 'NOUN'), ('and', 'CONJ'), ('Paul', 'NOUN'), ('Allen', 'NOUN'), ('in', 'ADP'), ('1975', 'NUM'), ('developed', 'VERB'), ('an', 'DET'), ('early', 'ADJ'), ('language-housekeeper', 'ADJ'), ('system', 'NOUN'), ('for', 'ADP'), ('PCs', 'NOUN'), (',', '.'), ('and', 'CONJ'), ('Gates', 'NOUN'), ('became', 'VERB'), ('an', 'DET'), ('industry', 'NOUN'), ('billionaire', 'NOUN'), ('six', 'NUM'), ('years', 'NOUN'), ('after', 'ADP'), ('IBM', 'NOUN'), ('adapted', 'VERB'), ('one', 'NUM'), ('of', 'ADP'), ('these', 'DET'), ('versions', 'NOUN'), ('in', 'ADP'), ('1981', 'NUM'), ('.', '.')], [('The', 'DET'), ('dispute', 'NOUN'), ('has', 'VERB'), ('hampered', 'VERB'), ('the', 'DET'), ('administration', 'NOUN'), (\"'s\", 'PRT'), ('efforts', 'NOUN'), ('*', 'X'), ('to', 'PRT'), ('recruit', 'VERB'), ('prominent', 'ADJ'), ('doctors', 'NOUN'), ('0', 'X'), ('*T*-1', 'X'), ('to', 'PRT'), ('fill', 'VERB'), ('prestigious', 'ADJ'), ('posts', 'NOUN'), ('at', 'ADP'), ('the', 'DET'), ('helm', 'NOUN'), ('of', 'ADP'), ('the', 'DET'), ('NIH', 'NOUN'), ('and', 'CONJ'), ('the', 'DET'), ('Centers', 'NOUN'), ('for', 'ADP'), ('Disease', 'NOUN'), ('Control', 'NOUN'), ('.', '.')], [('The', 'DET'), ('company', 'NOUN'), (\"'s\", 'PRT'), ('stock', 'NOUN'), ('fell', 'VERB'), ('$', '.'), ('1.125', 'NUM'), ('*U*', 'X'), ('to', 'PRT'), ('$', '.'), ('13.625', 'NUM'), ('*U*', 'X'), ('in', 'ADP'), ('over-the-counter', 'ADJ'), ('trading', 'NOUN'), ('yesterday', 'NOUN'), ('.', '.')], [('A', 'DET'), ('reinstatement', 'NOUN'), ('of', 'ADP'), ('the', 'DET'), ('uptick', 'NOUN'), ('rule', 'NOUN'), ('for', 'ADP'), ('program', 'NOUN'), ('traders', 'NOUN'), ('would', 'VERB'), ('slow', 'VERB'), ('their', 'PRON'), ('activity', 'NOUN'), ('considerably', 'ADV'), ('.', '.')], [('The', 'DET'), ('aerospace', 'NOUN'), (',', '.'), ('automotive', 'ADJ'), ('supply', 'NOUN'), (',', '.'), ('electronics', 'NOUN'), ('and', 'CONJ'), ('printing-press', 'NOUN'), ('concern', 'NOUN'), ('also', 'ADV'), ('indicated', 'VERB'), ('that', 'ADP'), ('the', 'DET'), ('first', 'ADJ'), ('half', 'DET'), ('of', 'ADP'), ('fiscal', 'ADJ'), ('1990', 'NUM'), ('could', 'VERB'), ('be', 'VERB'), ('rough', 'ADJ'), ('.', '.')], [('``', '.'), ('It', 'PRON'), ('is', 'VERB'), ('these', 'DET'), ('645,000', 'NUM'), ('tons', 'NOUN'), ('that', 'DET'), ('*T*-1', 'X'), ('are', 'VERB'), ('in', 'ADP'), ('question', 'NOUN'), ('for', 'ADP'), ('this', 'DET'), ('crop', 'NOUN'), ('year', 'NOUN'), (',', '.'), (\"''\", '.'), ('explained', 'VERB'), ('*T*-2', 'X'), ('Judith', 'NOUN'), ('Ganes', 'NOUN'), (',', '.'), ('analyst', 'NOUN'), ('for', 'ADP'), ('Shearson', 'NOUN'), ('Lehman', 'NOUN'), ('Hutton', 'NOUN'), (',', '.'), ('New', 'NOUN'), ('York', 'NOUN'), ('.', '.')], [('Ralston', 'NOUN'), ('said', 'VERB'), ('0', 'X'), ('its', 'PRON'), ('Eveready', 'NOUN'), ('battery', 'NOUN'), ('unit', 'NOUN'), ('was', 'VERB'), ('hurt', 'VERB'), ('*-1', 'X'), ('by', 'ADP'), ('continuing', 'VERB'), ('economic', 'ADJ'), ('problems', 'NOUN'), ('in', 'ADP'), ('South', 'NOUN'), ('America', 'NOUN'), ('.', '.')], [('Corporate', 'ADJ'), ('lawyers', 'NOUN'), ('said', 'VERB'), ('0', 'X'), ('the', 'DET'), ('new', 'ADJ'), ('fees', 'NOUN'), ('would', 'VERB'), (\"n't\", 'ADV'), ('inhibit', 'VERB'), ('many', 'ADJ'), ('mergers', 'NOUN'), ('or', 'CONJ'), ('other', 'ADJ'), ('transactions', 'NOUN'), ('.', '.')], [('The', 'DET'), ('Voice', 'NOUN'), ('of', 'ADP'), ('America', 'NOUN'), ('is', 'VERB'), ('a', 'DET'), ('government', 'NOUN'), ('agency', 'NOUN'), ('that', 'DET'), ('*T*-1', 'X'), ('broadcasts', 'VERB'), ('news', 'NOUN'), ('and', 'CONJ'), ('views', 'NOUN'), ('--', '.'), ('some', 'DET'), ('might', 'VERB'), ('say', 'VERB'), ('propaganda', 'NOUN'), ('--', '.'), ('in', 'ADP'), ('43', 'NUM'), ('languages', 'NOUN'), ('to', 'PRT'), ('130', 'NUM'), ('million', 'NUM'), ('listeners', 'NOUN'), ('around', 'ADP'), ('the', 'DET'), ('world', 'NOUN'), ('.', '.')], [('``', '.'), ('The', 'DET'), ('big', 'ADJ'), ('problem', 'NOUN'), ('is', 'VERB'), ('that', 'ADP'), ('USX', 'NOUN'), ('management', 'NOUN'), ('has', 'VERB'), ('proved', 'VERB'), ('*-1', 'X'), ('unwilling', 'ADJ'), ('*-2', 'X'), ('to', 'PRT'), ('devote', 'VERB'), ('the', 'DET'), ('necessary', 'ADJ'), ('resources', 'NOUN'), ('and', 'CONJ'), ('manpower', 'NOUN'), ('to', 'PRT'), ('*', 'X'), ('removing', 'VERB'), ('hazards', 'NOUN'), ('and', 'CONJ'), ('to', 'PRT'), ('*', 'X'), ('safeguarding', 'VERB'), ('safety', 'NOUN'), ('and', 'CONJ'), ('health', 'NOUN'), ('in', 'ADP'), ('the', 'DET'), ('plants', 'NOUN'), (',', '.'), (\"''\", '.'), ('said', 'VERB'), ('*T*-3', 'X'), ('Linda', 'NOUN'), ('Anku', 'NOUN'), (',', '.'), ('OSHA', 'NOUN'), ('regional', 'ADJ'), ('administrator', 'NOUN'), ('in', 'ADP'), ('Philadelphia', 'NOUN'), ('.', '.')], [('Viacom', 'NOUN'), ('denies', 'VERB'), ('0', 'X'), ('it', 'PRON'), (\"'s\", 'VERB'), ('using', 'VERB'), ('pressure', 'NOUN'), ('tactics', 'NOUN'), ('.', '.')], [('Triton', 'NOUN'), ('Securities', 'NOUN'), (',', '.'), ('of', 'ADP'), ('Danville', 'NOUN'), (',', '.'), ('Calif.', 'NOUN'), (',', '.'), ('and', 'CONJ'), ('a', 'DET'), ('principal', 'NOUN'), ('of', 'ADP'), ('the', 'DET'), ('firm', 'NOUN'), (',', '.'), ('Delwin', 'NOUN'), ('George', 'NOUN'), ('Chase', 'NOUN'), (',', '.'), ('also', 'ADV'), ('of', 'ADP'), ('Danville', 'NOUN'), (',', '.'), ('were', 'VERB'), ('jointly', 'ADV'), ('fined', 'VERB'), ('*-1', 'X'), ('$', '.'), ('10,000', 'NUM'), ('*U*', 'X'), ('and', 'CONJ'), ('given', 'VERB'), ('*-1', 'X'), ('30-day', 'ADJ'), ('suspensions', 'NOUN'), ('as', 'ADP'), ('part', 'NOUN'), ('of', 'ADP'), ('a', 'DET'), ('settlement', 'NOUN'), ('.', '.')], [('The', 'DET'), ('stock', 'NOUN'), ('would', 'VERB'), ('be', 'VERB'), ('redeemed', 'VERB'), ('*-1', 'X'), ('in', 'ADP'), ('five', 'NUM'), ('years', 'NOUN'), (',', '.'), ('subject', 'ADJ'), ('to', 'PRT'), ('terms', 'NOUN'), ('of', 'ADP'), ('the', 'DET'), ('surviving', 'VERB'), ('company', 'NOUN'), (\"'s\", 'PRT'), ('debt', 'NOUN'), ('.', '.')], [('Strong', 'ADJ'), ('dividend', 'NOUN'), ('growth', 'NOUN'), (',', '.'), ('he', 'PRON'), ('says', 'VERB'), ('0', 'X'), ('*T*-1', 'X'), (',', '.'), ('is', 'VERB'), ('``', '.'), ('the', 'DET'), ('black', 'ADJ'), ('widow', 'NOUN'), ('of', 'ADP'), ('valuation', 'NOUN'), (\"''\", '.'), ('--', '.'), ('a', 'DET'), ('reference', 'NOUN'), ('to', 'PRT'), ('the', 'DET'), ('female', 'ADJ'), ('spiders', 'NOUN'), ('that', 'DET'), ('*T*-231', 'X'), ('attract', 'VERB'), ('males', 'NOUN'), ('and', 'CONJ'), ('then', 'ADV'), ('kill', 'VERB'), ('them', 'PRON'), ('after', 'ADP'), ('mating', 'VERB'), ('.', '.')], [('In', 'ADP'), ('his', 'PRON'), ('talks', 'NOUN'), (',', '.'), ('the', 'DET'), ('former', 'ADJ'), ('president', 'NOUN'), ('urged', 'VERB'), ('China', 'NOUN'), (\"'s\", 'PRT'), ('leaders', 'NOUN'), ('*-1', 'X'), ('to', 'PRT'), ('acknowledge', 'VERB'), ('that', 'DET'), ('their', 'PRON'), ('nation', 'NOUN'), ('is', 'VERB'), ('part', 'NOUN'), ('of', 'ADP'), ('the', 'DET'), ('world', 'NOUN'), ('community', 'NOUN'), ('and', 'CONJ'), ('welcome', 'VERB'), ('the', 'DET'), ('infusion', 'NOUN'), ('of', 'ADP'), ('outside', 'ADJ'), ('contacts', 'NOUN'), ('and', 'CONJ'), ('ideas', 'NOUN'), ('.', '.')], [('``', '.'), ('There', 'DET'), ('are', 'VERB'), ('certain', 'ADJ'), ('cult', 'NOUN'), ('wines', 'NOUN'), ('that', 'DET'), ('*T*-163', 'X'), ('can', 'VERB'), ('command', 'VERB'), ('these', 'DET'), ('higher', 'ADJ'), ('prices', 'NOUN'), (',', '.'), (\"''\", '.'), ('says', 'VERB'), ('*T*-1', 'X'), ('Larry', 'NOUN'), ('Shapiro', 'NOUN'), ('of', 'ADP'), ('Marty', 'NOUN'), (\"'s\", 'PRT'), (',', '.'), ('one', 'NUM'), ('of', 'ADP'), ('the', 'DET'), ('largest', 'ADJ'), ('wine', 'NOUN'), ('shops', 'NOUN'), ('in', 'ADP'), ('Dallas', 'NOUN'), ('.', '.')], [('Sen.', 'NOUN'), ('John', 'NOUN'), ('Danforth', 'NOUN'), ('-LRB-', '.'), ('R.', 'NOUN'), (',', '.'), ('Mo', 'NOUN'), ('.', '.'), ('-RRB-', '.'), ('praised', 'VERB'), ('the', 'DET'), ('department', 'NOUN'), (\"'s\", 'PRT'), ('actions', 'NOUN'), (',', '.'), ('*-1', 'X'), ('noting', 'VERB'), ('that', 'ADP'), ('rollover', 'NOUN'), ('crashes', 'NOUN'), ('account', 'VERB'), ('for', 'ADP'), ('almost', 'ADV'), ('half', 'DET'), ('of', 'ADP'), ('all', 'DET'), ('light-truck', 'ADJ'), ('deaths', 'NOUN'), ('.', '.')], [('If', 'ADP'), ('Congress', 'NOUN'), ('takes', 'VERB'), ('the', 'DET'), ('dispute', 'NOUN'), ('to', 'PRT'), ('the', 'DET'), ('Supreme', 'NOUN'), ('Court', 'NOUN'), ('-LRB-', '.'), ('*-2', 'X'), ('assuming', 'VERB'), ('0', 'X'), ('it', 'PRON'), ('can', 'VERB'), ('establish', 'VERB'), ('standing', 'NOUN'), ('0', 'X'), ('*', 'X'), ('to', 'PRT'), ('sue', 'VERB'), ('*T*-1', 'X'), ('-RRB-', '.'), (',', '.'), ('President', 'NOUN'), ('Bush', 'NOUN'), ('might', 'VERB'), ('win', 'VERB'), ('.', '.')], [('France', 'NOUN'), ('can', 'VERB'), ('boast', 'VERB'), ('the', 'DET'), ('lion', 'NOUN'), (\"'s\", 'PRT'), ('share', 'NOUN'), ('of', 'ADP'), ('high-priced', 'ADJ'), ('bottles', 'NOUN'), ('.', '.')], [('``', '.'), ('It', 'PRON'), (\"'s\", 'VERB'), ('the', 'DET'), ('type', 'NOUN'), ('of', 'ADP'), ('nervous', 'ADJ'), ('atmosphere', 'NOUN'), ('in', 'ADP'), ('which', 'DET'), ('a', 'DET'), ('report', 'NOUN'), ('*ICH*-1', 'X'), ('can', 'VERB'), ('be', 'VERB'), ('put', 'VERB'), ('out', 'PRT'), ('*-6', 'X'), ('*T*-2', 'X'), (',', '.'), ('such', 'ADJ'), ('as', 'ADP'), ('the', 'DET'), ('one', 'NUM'), ('saying', 'VERB'), ('0', 'X'), ('exports', 'NOUN'), ('will', 'VERB'), ('be', 'VERB'), ('suspended', 'VERB'), ('*-7', 'X'), (',', '.'), ('and', 'CONJ'), ('no', 'DET'), ('one', 'NOUN'), ('can', 'VERB'), ('confirm', 'VERB'), ('it', 'PRON'), ('.', '.'), (\"''\", '.')], [('The', 'DET'), ('one', 'NUM'), ('character', 'NOUN'), ('at', 'ADP'), ('least', 'ADJ'), ('somewhat', 'ADV'), ('interesting', 'ADJ'), ('was', 'VERB'), ('Irving', 'NOUN'), ('Louis', 'NOUN'), ('Lobsenz', 'NOUN'), (',', '.'), ('a', 'DET'), ('pediatrician', 'NOUN'), ('who', 'PRON'), ('*T*-1', 'X'), ('changed', 'VERB'), ('his', 'PRON'), ('name', 'NOUN'), ('to', 'PRT'), ('Rusty', 'NOUN'), ('Kent', 'NOUN'), ('London', 'NOUN'), ('and', 'CONJ'), ('became', 'VERB'), ('a', 'DET'), ('master', 'NOUN'), ('gambler', 'NOUN'), ('and', 'CONJ'), ('author', 'NOUN'), ('of', 'ADP'), ('a', 'DET'), ('book', 'NOUN'), ('on', 'ADP'), ('blackjack', 'NOUN'), ('.', '.')], [('The', 'DET'), ('competitive', 'ADJ'), ('rates', 'NOUN'), ('were', 'VERB'), ('generally', 'ADV'), ('offset', 'VERB'), ('*-1', 'X'), ('by', 'ADP'), ('hefty', 'ADJ'), ('fees', 'NOUN'), ('on', 'ADP'), ('various', 'ADJ'), ('services', 'NOUN'), ('.', '.')], [('The', 'DET'), ('senior', 'NOUN'), ('of', 'ADP'), ('the', 'DET'), ('three', 'NUM'), ('executives', 'NOUN'), ('who', 'PRON'), ('*T*-1', 'X'), ('will', 'VERB'), ('assume', 'VERB'), ('Mr.', 'NOUN'), ('Reupke', 'NOUN'), (\"'s\", 'PRT'), ('duties', 'NOUN'), ('is', 'VERB'), ('Nigel', 'NOUN'), ('Judah', 'NOUN'), (',', '.'), ('58', 'NUM'), (',', '.'), ('finance', 'NOUN'), ('director', 'NOUN'), ('and', 'CONJ'), ('a', 'DET'), ('Reuters', 'NOUN'), ('board', 'NOUN'), ('director', 'NOUN'), ('.', '.')], [('Prosecutors', 'NOUN'), ('alleged', 'VERB'), ('that', 'ADP'), ('she', 'PRON'), ('was', 'VERB'), ('trying', 'VERB'), ('*-1', 'X'), ('to', 'PRT'), ('bolster', 'VERB'), ('students', 'NOUN'), (\"'\", 'PRT'), ('scores', 'NOUN'), ('*-1', 'X'), ('to', 'PRT'), ('win', 'VERB'), ('a', 'DET'), ('bonus', 'NOUN'), ('under', 'ADP'), ('the', 'DET'), ('state', 'NOUN'), (\"'s\", 'PRT'), ('1984', 'NUM'), ('Education', 'NOUN'), ('Improvement', 'NOUN'), ('Act', 'NOUN'), ('.', '.')], [('Sterling', 'NOUN'), (\"'s\", 'PRT'), ('firm', 'ADJ'), ('tone', 'NOUN'), (',', '.'), ('combined', 'VERB'), ('with', 'ADP'), ('a', 'DET'), ('steady', 'ADJ'), ('opening', 'NOUN'), ('on', 'ADP'), ('Wall', 'NOUN'), ('Street', 'NOUN'), (',', '.'), ('also', 'ADV'), ('tempted', 'VERB'), ('some', 'DET'), ('investors', 'NOUN'), ('to', 'PRT'), ('come', 'VERB'), ('back', 'ADV'), ('to', 'PRT'), ('the', 'DET'), ('market', 'NOUN'), (',', '.'), ('dealers', 'NOUN'), ('said', 'VERB'), ('0', 'X'), ('*T*-1', 'X'), ('.', '.')]]\n"
     ]
    }
   ],
   "source": [
    "# Splitting into train and test\n",
    "random.seed(1234)\n",
    "train_set, test_set = train_test_split(nltk_data,test_size=0.05)\n",
    "\n",
    "print(len(train_set))\n",
    "print(len(test_set))\n",
    "print(train_set[:40])"
   ]
  },
  {
   "cell_type": "code",
   "execution_count": 28,
   "metadata": {},
   "outputs": [
    {
     "data": {
      "text/plain": [
       "95570"
      ]
     },
     "execution_count": 28,
     "metadata": {},
     "output_type": "execute_result"
    }
   ],
   "source": [
    "# Getting list of tagged words\n",
    "train_tagged_words = [tup for sent in train_set for tup in sent]\n",
    "len(train_tagged_words)"
   ]
  },
  {
   "cell_type": "code",
   "execution_count": 29,
   "metadata": {},
   "outputs": [
    {
     "data": {
      "text/plain": [
       "['In',\n",
       " 'a',\n",
       " 'number',\n",
       " 'of',\n",
       " 'recent',\n",
       " 'cases',\n",
       " ',',\n",
       " 'federal',\n",
       " 'courts',\n",
       " 'have']"
      ]
     },
     "execution_count": 29,
     "metadata": {},
     "output_type": "execute_result"
    }
   ],
   "source": [
    "# tokens \n",
    "tokens = [pair[0] for pair in train_tagged_words]\n",
    "tokens[:10]"
   ]
  },
  {
   "cell_type": "code",
   "execution_count": 30,
   "metadata": {},
   "outputs": [
    {
     "name": "stdout",
     "output_type": "stream",
     "text": [
      "12096\n"
     ]
    }
   ],
   "source": [
    "# vocabulary\n",
    "V = set(tokens)\n",
    "print(len(V))"
   ]
  },
  {
   "cell_type": "code",
   "execution_count": 31,
   "metadata": {},
   "outputs": [
    {
     "data": {
      "text/plain": [
       "12"
      ]
     },
     "execution_count": 31,
     "metadata": {},
     "output_type": "execute_result"
    }
   ],
   "source": [
    "# number of tags\n",
    "T = set([pair[1] for pair in train_tagged_words])\n",
    "len(T)"
   ]
  },
  {
   "cell_type": "code",
   "execution_count": 32,
   "metadata": {},
   "outputs": [
    {
     "name": "stdout",
     "output_type": "stream",
     "text": [
      "{'CONJ', 'VERB', 'ADP', 'ADV', 'PRON', 'NUM', '.', 'PRT', 'DET', 'X', 'NOUN', 'ADJ'}\n"
     ]
    }
   ],
   "source": [
    "print(T)"
   ]
  },
  {
   "cell_type": "markdown",
   "metadata": {},
   "source": [
    "### Corpus summary:\n",
    "\n",
    "- Total Number of records: 3914\n",
    "- Number of records in training set: 3718  (95%)\n",
    "- Number of records in testing set: 196  (5%)\n",
    "- Total Number of distinct words in training set = 12091\n",
    "- Total Number of Tags: 12\n",
    "\n",
    "\n",
    "### Build the vanilla Viterbi based POS tagger"
   ]
  },
  {
   "cell_type": "code",
   "execution_count": 33,
   "metadata": {},
   "outputs": [],
   "source": [
    "# computing P(w/t) and storing in T x V matrix\n",
    "t = len(T)\n",
    "v = len(V)\n",
    "w_given_t = np.zeros((t, v))"
   ]
  },
  {
   "cell_type": "code",
   "execution_count": 34,
   "metadata": {},
   "outputs": [],
   "source": [
    "# compute word given tag: Emission Probability\n",
    "def word_given_tag(word, tag, train_bag = train_tagged_words):\n",
    "    tag_list = [pair for pair in train_bag if pair[1]==tag]\n",
    "    count_tag = len(tag_list)\n",
    "    w_given_tag_list = [pair[0] for pair in tag_list if pair[0]==word]\n",
    "    count_w_given_tag = len(w_given_tag_list)\n",
    "    \n",
    "    return (count_w_given_tag, count_tag)"
   ]
  },
  {
   "cell_type": "code",
   "execution_count": 35,
   "metadata": {},
   "outputs": [],
   "source": [
    "# compute tag given tag: tag2(t2) given tag1 (t1), i.e. Transition Probability\n",
    "def t2_given_t1(t2, t1, train_bag = train_tagged_words):\n",
    "    tags = [pair[1] for pair in train_bag]\n",
    "    count_t1 = len([t for t in tags if t==t1])\n",
    "    count_t2_t1 = 0\n",
    "    for index in range(len(tags)-1):\n",
    "        if tags[index]==t1 and tags[index+1] == t2:\n",
    "            count_t2_t1 += 1\n",
    "    return (count_t2_t1, count_t1)"
   ]
  },
  {
   "cell_type": "code",
   "execution_count": 36,
   "metadata": {},
   "outputs": [],
   "source": [
    "# creating t x t transition matrix of tags\n",
    "# each column is t2, each row is t1\n",
    "# thus M(i, j) represents P(tj given ti)\n",
    "\n",
    "tags_matrix = np.zeros((len(T), len(T)), dtype='float32')\n",
    "for i, t1 in enumerate(list(T)):\n",
    "    for j, t2 in enumerate(list(T)): \n",
    "        tags_matrix[i, j] = t2_given_t1(t2, t1)[0]/t2_given_t1(t2, t1)[1]"
   ]
  },
  {
   "cell_type": "code",
   "execution_count": 37,
   "metadata": {},
   "outputs": [
    {
     "data": {
      "text/plain": [
       "array([[4.63392033e-04, 1.55699715e-01, 5.18999062e-02, 5.51436506e-02,\n",
       "        5.93141802e-02, 4.03151065e-02, 3.70713621e-02, 4.63392027e-03,\n",
       "        1.18628360e-01, 8.80444888e-03, 3.49397600e-01, 1.18628360e-01],\n",
       "       [5.04540885e-03, 1.70146704e-01, 9.09726024e-02, 8.10370222e-02,\n",
       "        3.46192643e-02, 2.31312588e-02, 3.56283486e-02, 3.09710465e-02,\n",
       "        1.34207875e-01, 2.19358847e-01, 1.09834664e-01, 6.50469586e-02],\n",
       "       [8.57173465e-04, 8.35744105e-03, 1.76792033e-02, 1.29647488e-02,\n",
       "        6.81452900e-02, 6.19307831e-02, 3.97514179e-02, 1.50005356e-03,\n",
       "        3.25725913e-01, 3.40726450e-02, 3.21440041e-01, 1.07575268e-01],\n",
       "       [6.67334022e-03, 3.45679015e-01, 1.18118115e-01, 8.07474107e-02,\n",
       "        1.53486822e-02, 3.13646980e-02, 1.37137130e-01, 1.46813476e-02,\n",
       "        6.80680647e-02, 2.23556887e-02, 3.10310312e-02, 1.28795460e-01],\n",
       "       [4.65477118e-03, 4.89138871e-01, 2.28859577e-02, 3.52986827e-02,\n",
       "        7.37005426e-03, 7.75795197e-03, 3.87897603e-02, 1.20248254e-02,\n",
       "        9.30954237e-03, 9.19317305e-02, 2.09852606e-01, 7.09852576e-02],\n",
       "       [1.36945518e-02, 1.72670446e-02, 3.54272090e-02, 2.97707645e-03,\n",
       "        1.48853823e-03, 1.87258109e-01, 1.16999105e-01, 2.50074435e-02,\n",
       "        3.27478419e-03, 2.13754088e-01, 3.48615646e-01, 3.42363790e-02],\n",
       "       [5.80489114e-02, 8.84170905e-02, 9.02983099e-02, 5.23156859e-02,\n",
       "        6.54841885e-02, 8.11609775e-02, 9.41503197e-02, 2.14995979e-03,\n",
       "        1.73340499e-01, 2.78598946e-02, 2.22341672e-01, 4.43429202e-02],\n",
       "       [2.29282677e-03, 4.02554870e-01, 2.06354409e-02, 1.04814935e-02,\n",
       "        1.80150680e-02, 5.53553887e-02, 4.32361625e-02, 1.63773343e-03,\n",
       "        1.00229286e-01, 1.40845068e-02, 2.47952834e-01, 8.35243985e-02],\n",
       "       [4.83675947e-04, 3.89359146e-02, 9.06892400e-03, 1.25755742e-02,\n",
       "        3.62756941e-03, 2.20072549e-02, 1.77750904e-02, 2.41837974e-04,\n",
       "        5.44135412e-03, 4.51027825e-02, 6.40628755e-01, 2.04111248e-01],\n",
       "       [1.04861772e-02, 2.02415004e-01, 1.45217672e-01, 2.55799182e-02,\n",
       "        5.57673983e-02, 2.70098518e-03, 1.63171276e-01, 1.85255796e-01,\n",
       "        5.40197007e-02, 7.49920532e-02, 6.33937046e-02, 1.70003176e-02],\n",
       "       [4.28899676e-02, 1.47197202e-01, 1.76082283e-01, 1.68131590e-02,\n",
       "        4.70476691e-03, 9.26364958e-03, 2.40344286e-01, 4.40570414e-02,\n",
       "        1.29107554e-02, 2.85203699e-02, 2.65144616e-01, 1.20719206e-02],\n",
       "       [1.73181593e-02, 1.22051788e-02, 7.63648376e-02, 4.61817579e-03,\n",
       "        3.29869712e-04, 2.06168555e-02, 6.63038120e-02, 1.08857006e-02,\n",
       "        4.28830599e-03, 2.11116616e-02, 6.99158847e-01, 6.67986125e-02]],\n",
       "      dtype=float32)"
      ]
     },
     "execution_count": 37,
     "metadata": {},
     "output_type": "execute_result"
    }
   ],
   "source": [
    "tags_matrix"
   ]
  },
  {
   "cell_type": "code",
   "execution_count": 38,
   "metadata": {},
   "outputs": [
    {
     "data": {
      "text/html": [
       "<div>\n",
       "<style scoped>\n",
       "    .dataframe tbody tr th:only-of-type {\n",
       "        vertical-align: middle;\n",
       "    }\n",
       "\n",
       "    .dataframe tbody tr th {\n",
       "        vertical-align: top;\n",
       "    }\n",
       "\n",
       "    .dataframe thead th {\n",
       "        text-align: right;\n",
       "    }\n",
       "</style>\n",
       "<table border=\"1\" class=\"dataframe\">\n",
       "  <thead>\n",
       "    <tr style=\"text-align: right;\">\n",
       "      <th></th>\n",
       "      <th>CONJ</th>\n",
       "      <th>VERB</th>\n",
       "      <th>ADP</th>\n",
       "      <th>ADV</th>\n",
       "      <th>PRON</th>\n",
       "      <th>NUM</th>\n",
       "      <th>.</th>\n",
       "      <th>PRT</th>\n",
       "      <th>DET</th>\n",
       "      <th>X</th>\n",
       "      <th>NOUN</th>\n",
       "      <th>ADJ</th>\n",
       "    </tr>\n",
       "  </thead>\n",
       "  <tbody>\n",
       "    <tr>\n",
       "      <th>CONJ</th>\n",
       "      <td>0.000463</td>\n",
       "      <td>0.155700</td>\n",
       "      <td>0.051900</td>\n",
       "      <td>0.055144</td>\n",
       "      <td>0.059314</td>\n",
       "      <td>0.040315</td>\n",
       "      <td>0.037071</td>\n",
       "      <td>0.004634</td>\n",
       "      <td>0.118628</td>\n",
       "      <td>0.008804</td>\n",
       "      <td>0.349398</td>\n",
       "      <td>0.118628</td>\n",
       "    </tr>\n",
       "    <tr>\n",
       "      <th>VERB</th>\n",
       "      <td>0.005045</td>\n",
       "      <td>0.170147</td>\n",
       "      <td>0.090973</td>\n",
       "      <td>0.081037</td>\n",
       "      <td>0.034619</td>\n",
       "      <td>0.023131</td>\n",
       "      <td>0.035628</td>\n",
       "      <td>0.030971</td>\n",
       "      <td>0.134208</td>\n",
       "      <td>0.219359</td>\n",
       "      <td>0.109835</td>\n",
       "      <td>0.065047</td>\n",
       "    </tr>\n",
       "    <tr>\n",
       "      <th>ADP</th>\n",
       "      <td>0.000857</td>\n",
       "      <td>0.008357</td>\n",
       "      <td>0.017679</td>\n",
       "      <td>0.012965</td>\n",
       "      <td>0.068145</td>\n",
       "      <td>0.061931</td>\n",
       "      <td>0.039751</td>\n",
       "      <td>0.001500</td>\n",
       "      <td>0.325726</td>\n",
       "      <td>0.034073</td>\n",
       "      <td>0.321440</td>\n",
       "      <td>0.107575</td>\n",
       "    </tr>\n",
       "    <tr>\n",
       "      <th>ADV</th>\n",
       "      <td>0.006673</td>\n",
       "      <td>0.345679</td>\n",
       "      <td>0.118118</td>\n",
       "      <td>0.080747</td>\n",
       "      <td>0.015349</td>\n",
       "      <td>0.031365</td>\n",
       "      <td>0.137137</td>\n",
       "      <td>0.014681</td>\n",
       "      <td>0.068068</td>\n",
       "      <td>0.022356</td>\n",
       "      <td>0.031031</td>\n",
       "      <td>0.128795</td>\n",
       "    </tr>\n",
       "    <tr>\n",
       "      <th>PRON</th>\n",
       "      <td>0.004655</td>\n",
       "      <td>0.489139</td>\n",
       "      <td>0.022886</td>\n",
       "      <td>0.035299</td>\n",
       "      <td>0.007370</td>\n",
       "      <td>0.007758</td>\n",
       "      <td>0.038790</td>\n",
       "      <td>0.012025</td>\n",
       "      <td>0.009310</td>\n",
       "      <td>0.091932</td>\n",
       "      <td>0.209853</td>\n",
       "      <td>0.070985</td>\n",
       "    </tr>\n",
       "    <tr>\n",
       "      <th>NUM</th>\n",
       "      <td>0.013695</td>\n",
       "      <td>0.017267</td>\n",
       "      <td>0.035427</td>\n",
       "      <td>0.002977</td>\n",
       "      <td>0.001489</td>\n",
       "      <td>0.187258</td>\n",
       "      <td>0.116999</td>\n",
       "      <td>0.025007</td>\n",
       "      <td>0.003275</td>\n",
       "      <td>0.213754</td>\n",
       "      <td>0.348616</td>\n",
       "      <td>0.034236</td>\n",
       "    </tr>\n",
       "    <tr>\n",
       "      <th>.</th>\n",
       "      <td>0.058049</td>\n",
       "      <td>0.088417</td>\n",
       "      <td>0.090298</td>\n",
       "      <td>0.052316</td>\n",
       "      <td>0.065484</td>\n",
       "      <td>0.081161</td>\n",
       "      <td>0.094150</td>\n",
       "      <td>0.002150</td>\n",
       "      <td>0.173340</td>\n",
       "      <td>0.027860</td>\n",
       "      <td>0.222342</td>\n",
       "      <td>0.044343</td>\n",
       "    </tr>\n",
       "    <tr>\n",
       "      <th>PRT</th>\n",
       "      <td>0.002293</td>\n",
       "      <td>0.402555</td>\n",
       "      <td>0.020635</td>\n",
       "      <td>0.010481</td>\n",
       "      <td>0.018015</td>\n",
       "      <td>0.055355</td>\n",
       "      <td>0.043236</td>\n",
       "      <td>0.001638</td>\n",
       "      <td>0.100229</td>\n",
       "      <td>0.014085</td>\n",
       "      <td>0.247953</td>\n",
       "      <td>0.083524</td>\n",
       "    </tr>\n",
       "    <tr>\n",
       "      <th>DET</th>\n",
       "      <td>0.000484</td>\n",
       "      <td>0.038936</td>\n",
       "      <td>0.009069</td>\n",
       "      <td>0.012576</td>\n",
       "      <td>0.003628</td>\n",
       "      <td>0.022007</td>\n",
       "      <td>0.017775</td>\n",
       "      <td>0.000242</td>\n",
       "      <td>0.005441</td>\n",
       "      <td>0.045103</td>\n",
       "      <td>0.640629</td>\n",
       "      <td>0.204111</td>\n",
       "    </tr>\n",
       "    <tr>\n",
       "      <th>X</th>\n",
       "      <td>0.010486</td>\n",
       "      <td>0.202415</td>\n",
       "      <td>0.145218</td>\n",
       "      <td>0.025580</td>\n",
       "      <td>0.055767</td>\n",
       "      <td>0.002701</td>\n",
       "      <td>0.163171</td>\n",
       "      <td>0.185256</td>\n",
       "      <td>0.054020</td>\n",
       "      <td>0.074992</td>\n",
       "      <td>0.063394</td>\n",
       "      <td>0.017000</td>\n",
       "    </tr>\n",
       "    <tr>\n",
       "      <th>NOUN</th>\n",
       "      <td>0.042890</td>\n",
       "      <td>0.147197</td>\n",
       "      <td>0.176082</td>\n",
       "      <td>0.016813</td>\n",
       "      <td>0.004705</td>\n",
       "      <td>0.009264</td>\n",
       "      <td>0.240344</td>\n",
       "      <td>0.044057</td>\n",
       "      <td>0.012911</td>\n",
       "      <td>0.028520</td>\n",
       "      <td>0.265145</td>\n",
       "      <td>0.012072</td>\n",
       "    </tr>\n",
       "    <tr>\n",
       "      <th>ADJ</th>\n",
       "      <td>0.017318</td>\n",
       "      <td>0.012205</td>\n",
       "      <td>0.076365</td>\n",
       "      <td>0.004618</td>\n",
       "      <td>0.000330</td>\n",
       "      <td>0.020617</td>\n",
       "      <td>0.066304</td>\n",
       "      <td>0.010886</td>\n",
       "      <td>0.004288</td>\n",
       "      <td>0.021112</td>\n",
       "      <td>0.699159</td>\n",
       "      <td>0.066799</td>\n",
       "    </tr>\n",
       "  </tbody>\n",
       "</table>\n",
       "</div>"
      ],
      "text/plain": [
       "          CONJ      VERB       ADP       ADV      PRON       NUM         .  \\\n",
       "CONJ  0.000463  0.155700  0.051900  0.055144  0.059314  0.040315  0.037071   \n",
       "VERB  0.005045  0.170147  0.090973  0.081037  0.034619  0.023131  0.035628   \n",
       "ADP   0.000857  0.008357  0.017679  0.012965  0.068145  0.061931  0.039751   \n",
       "ADV   0.006673  0.345679  0.118118  0.080747  0.015349  0.031365  0.137137   \n",
       "PRON  0.004655  0.489139  0.022886  0.035299  0.007370  0.007758  0.038790   \n",
       "NUM   0.013695  0.017267  0.035427  0.002977  0.001489  0.187258  0.116999   \n",
       ".     0.058049  0.088417  0.090298  0.052316  0.065484  0.081161  0.094150   \n",
       "PRT   0.002293  0.402555  0.020635  0.010481  0.018015  0.055355  0.043236   \n",
       "DET   0.000484  0.038936  0.009069  0.012576  0.003628  0.022007  0.017775   \n",
       "X     0.010486  0.202415  0.145218  0.025580  0.055767  0.002701  0.163171   \n",
       "NOUN  0.042890  0.147197  0.176082  0.016813  0.004705  0.009264  0.240344   \n",
       "ADJ   0.017318  0.012205  0.076365  0.004618  0.000330  0.020617  0.066304   \n",
       "\n",
       "           PRT       DET         X      NOUN       ADJ  \n",
       "CONJ  0.004634  0.118628  0.008804  0.349398  0.118628  \n",
       "VERB  0.030971  0.134208  0.219359  0.109835  0.065047  \n",
       "ADP   0.001500  0.325726  0.034073  0.321440  0.107575  \n",
       "ADV   0.014681  0.068068  0.022356  0.031031  0.128795  \n",
       "PRON  0.012025  0.009310  0.091932  0.209853  0.070985  \n",
       "NUM   0.025007  0.003275  0.213754  0.348616  0.034236  \n",
       ".     0.002150  0.173340  0.027860  0.222342  0.044343  \n",
       "PRT   0.001638  0.100229  0.014085  0.247953  0.083524  \n",
       "DET   0.000242  0.005441  0.045103  0.640629  0.204111  \n",
       "X     0.185256  0.054020  0.074992  0.063394  0.017000  \n",
       "NOUN  0.044057  0.012911  0.028520  0.265145  0.012072  \n",
       "ADJ   0.010886  0.004288  0.021112  0.699159  0.066799  "
      ]
     },
     "execution_count": 38,
     "metadata": {},
     "output_type": "execute_result"
    }
   ],
   "source": [
    "# convert the matrix to a df for better readability\n",
    "tags_df = pd.DataFrame(tags_matrix, columns = list(T), index=list(T))\n",
    "tags_df"
   ]
  },
  {
   "cell_type": "code",
   "execution_count": 39,
   "metadata": {},
   "outputs": [
    {
     "data": {
      "text/plain": [
       "CONJ    0.058049\n",
       "VERB    0.088417\n",
       "ADP     0.090298\n",
       "ADV     0.052316\n",
       "PRON    0.065484\n",
       "NUM     0.081161\n",
       ".       0.094150\n",
       "PRT     0.002150\n",
       "DET     0.173340\n",
       "X       0.027860\n",
       "NOUN    0.222342\n",
       "ADJ     0.044343\n",
       "Name: ., dtype: float32"
      ]
     },
     "execution_count": 39,
     "metadata": {},
     "output_type": "execute_result"
    }
   ],
   "source": [
    "tags_df.loc['.', :]"
   ]
  },
  {
   "cell_type": "code",
   "execution_count": 41,
   "metadata": {},
   "outputs": [
    {
     "data": {
      "image/png": "[encoded data removed]",
      "text/plain": [
       "<Figure size 1296x864 with 2 Axes>"
      ]
     },
     "metadata": {
      "needs_background": "light"
     },
     "output_type": "display_data"
    }
   ],
   "source": [
    "# heatmap of tags matrix\n",
    "# T(i, j) means P(tag j given tag i)\n",
    "plt.figure(figsize=(18, 12))\n",
    "sns.heatmap(tags_df, annot=True)\n",
    "plt.show()\n"
   ]
  },
  {
   "cell_type": "code",
   "execution_count": 42,
   "metadata": {},
   "outputs": [
    {
     "data": {
      "image/png": "[encoded data removed]",
      "text/plain": [
       "<Figure size 1296x864 with 2 Axes>"
      ]
     },
     "metadata": {
      "needs_background": "light"
     },
     "output_type": "display_data"
    }
   ],
   "source": [
    "# frequent tags\n",
    "# filter the df to get P(t2, t1) > 0.5\n",
    "tags_frequent = tags_df[tags_df>0.5]\n",
    "plt.figure(figsize=(18, 12))\n",
    "sns.heatmap(tags_frequent, annot=True)\n",
    "plt.show()"
   ]
  },
  {
   "cell_type": "code",
   "execution_count": 43,
   "metadata": {},
   "outputs": [],
   "source": [
    "# Viterbi Heuristic\n",
    "def Viterbi(words, train_bag = train_tagged_words):\n",
    "    state = []\n",
    "    T = list(set([pair[1] for pair in train_bag]))\n",
    "    \n",
    "    for key, word in enumerate(words):\n",
    "        #initialise list of probability column for a given observation\n",
    "        p = [] \n",
    "        for tag in T:\n",
    "            if key == 0:\n",
    "                transition_p = tags_df.loc['.', tag]\n",
    "            else:\n",
    "                transition_p = tags_df.loc[state[-1], tag]\n",
    "                \n",
    "            # compute emission and state probabilities\n",
    "            emission_p = word_given_tag(words[key], tag)[0]/word_given_tag(words[key], tag)[1]\n",
    "            state_probability = emission_p * transition_p    \n",
    "            p.append(state_probability)\n",
    "            \n",
    "        pmax = max(p)\n",
    "        # getting state for which probability is maximum\n",
    "        state_max = T[p.index(pmax)] \n",
    "        state.append(state_max)\n",
    "    return list(zip(words, state))\n",
    "\n"
   ]
  },
  {
   "cell_type": "markdown",
   "metadata": {},
   "source": [
    "### Running on entire test dataset would take more than 3-4hrs. \n",
    "\n",
    "### Let's test our Viterbi algorithm on a few sample sentences of test dataset. \n",
    "\n",
    "### We will use the same test samples to evaluate all versions of Viterbi algo to make comparision easy\n"
   ]
  },
  {
   "cell_type": "code",
   "execution_count": 44,
   "metadata": {
    "scrolled": false
   },
   "outputs": [],
   "source": [
    "# Running on entire test dataset would take more than 3-4hrs. \n",
    "# Let's test our Viterbi algorithm on a few sample sentences of test dataset\n",
    "\n",
    "random.seed(1234)\n",
    "\n",
    "# choose random 50 sents\n",
    "rndom = [random.randint(1,len(test_set)) for x in range(50)]\n",
    "\n",
    "# list of sents\n",
    "test_run = [test_set[i] for i in rndom]\n",
    "\n",
    "# list of tagged words\n",
    "test_run_base = [tup for sent in test_run for tup in sent]\n",
    "\n",
    "# list of untagged words\n",
    "test_tagged_words = [tup[0] for sent in test_run for tup in sent]\n",
    "#test_run"
   ]
  },
  {
   "cell_type": "code",
   "execution_count": 45,
   "metadata": {},
   "outputs": [],
   "source": [
    "# tagging the test sentences\n",
    "start = time.time()\n",
    "tagged_seq_1 = Viterbi(test_tagged_words)\n",
    "end = time.time()\n",
    "difference = end-start"
   ]
  },
  {
   "cell_type": "code",
   "execution_count": 46,
   "metadata": {
    "scrolled": false
   },
   "outputs": [
    {
     "name": "stdout",
     "output_type": "stream",
     "text": [
      "Time taken in seconds:  210.92014002799988\n",
      "[('But', 'CONJ'), ('civilization', 'CONJ'), ('has', 'VERB'), ('moved', 'VERB'), ('forward', 'ADV'), ('since', 'ADP'), ('then', 'ADV'), ('.', '.'), ('President', 'NOUN'), ('Reagan', 'NOUN'), ('learned', 'VERB'), ('that', 'ADP'), ('lesson', 'NOUN'), ('.', '.'), ('Douglas', 'NOUN'), ('Madison', 'NOUN'), (',', '.'), ('a', 'DET'), ('corporate', 'ADJ'), ('trader', 'NOUN'), ('with', 'ADP'), ('Bank', 'NOUN'), ('of', 'ADP'), ('America', 'NOUN'), ('in', 'ADP'), ('Los', 'NOUN'), ('Angeles', 'NOUN'), (',', '.'), ('traced', 'CONJ'), ('the', 'DET'), ('dollar', 'NOUN'), (\"'s\", 'PRT'), ('recent', 'ADJ'), ('solid', 'ADJ'), ('performance', 'NOUN'), ('against', 'ADP'), ('the', 'DET'), ('yen', 'NOUN'), ('to', 'PRT'), ('purchases', 'NOUN'), ('of', 'ADP'), ('securities', 'NOUN'), ('by', 'ADP'), ('Japanese', 'ADJ'), ('insurance', 'NOUN'), ('companies', 'NOUN'), ('and', 'CONJ'), ('trust', 'NOUN'), ('banks', 'NOUN'), ('and', 'CONJ'), ('the', 'DET'), ('sense', 'NOUN'), ('that', 'ADP'), ('another', 'DET'), ('wave', 'CONJ'), ('of', 'ADP'), ('investment', 'NOUN'), ('is', 'VERB'), ('waiting', 'VERB'), ('in', 'ADP'), ('the', 'DET'), ('wings', 'NOUN'), ('.', '.'), ('``', '.'), ('The', 'DET'), ('theory', 'NOUN'), ('is', 'VERB'), ('that', 'ADP'), ('Seymour', 'NOUN'), ('is', 'VERB'), ('the', 'DET'), ('chief', 'NOUN'), ('designer', 'NOUN'), ('of', 'ADP'), ('the', 'DET'), ('Cray-3', 'NOUN'), (',', '.'), ('and', 'CONJ'), ('without', 'ADP'), ('him', 'PRON'), ('it', 'PRON'), ('could', 'VERB'), ('not', 'ADV'), ('be', 'VERB'), ('completed', 'VERB'), ('*-20', 'X'), ('.', '.'), ('But', 'CONJ'), ('I', 'PRON'), ('--', '.'), ('I', 'PRON'), ('like', 'VERB'), ('*-1', 'X'), ('to', 'PRT'), ('think', 'VERB'), ('of', 'ADP'), ('it', 'PRON'), ('in', 'ADP'), ('terms', 'NOUN'), ('of', 'ADP'), ('we', 'PRON'), (',', '.'), ('all', 'DET'), ('of', 'ADP'), ('us', 'PRON'), ('--', '.'), ('won', 'VERB'), ('the', 'DET'), ('point', 'NOUN'), ('.', '.'), ('Department', 'NOUN'), ('economists', 'NOUN'), ('do', 'VERB'), (\"n't\", 'ADV'), ('expect', 'VERB'), ('1989', 'NUM'), ('to', 'PRT'), ('be', 'VERB'), ('as', 'ADP'), ('good', 'ADJ'), ('a', 'DET'), ('year', 'NOUN'), ('as', 'ADP'), ('1988', 'NUM'), ('was', 'VERB'), ('*?*', 'X'), ('.', '.'), ('However', 'ADV'), (',', '.'), ('it', 'PRON'), ('has', 'VERB'), (\"n't\", 'ADV'), ('yet', 'ADV'), ('made', 'VERB'), ('any', 'DET'), ('proposals', 'CONJ'), ('to', 'PRT'), ('shareholders', 'NOUN'), ('.', '.'), ('Areas', 'CONJ'), ('of', 'ADP'), ('the', 'DET'), ('factory', 'NOUN'), ('*ICH*-2', 'X'), ('were', 'VERB'), ('particularly', 'ADV'), ('dusty', 'CONJ'), ('where', 'ADV'), ('the', 'DET'), ('crocidolite', 'NOUN'), ('was', 'VERB'), ('used', 'VERB'), ('*-8', 'X'), ('*T*-1', 'X'), ('.', '.'), ('While', 'ADP'), ('*-1', 'X'), ('neither', 'DET'), ('admitting', 'VERB'), ('nor', 'CONJ'), ('denying', 'VERB'), ('wrongdoing', 'NOUN'), (',', '.'), ('Triton', 'NOUN'), ('and', 'CONJ'), ('Mr.', 'NOUN'), ('Chase', 'NOUN'), ('consented', 'VERB'), ('to', 'PRT'), ('findings', 'NOUN'), ('of', 'ADP'), ('violations', 'NOUN'), ('in', 'ADP'), ('connection', 'NOUN'), ('with', 'ADP'), ('limited-partnership', 'NOUN'), ('sales', 'NOUN'), ('.', '.'), ('Shearson', 'NOUN'), ('is', 'VERB'), ('62%-owned', 'ADJ'), ('by', 'ADP'), ('American', 'ADJ'), ('Express', 'NOUN'), ('Co', 'NOUN'), ('.', '.'), ('So', 'ADV'), ('if', 'ADP'), ('index', 'NOUN'), ('arbitrage', 'NOUN'), ('is', 'VERB'), ('simply', 'ADV'), ('*', 'X'), ('taking', 'VERB'), ('advantage', 'NOUN'), ('of', 'ADP'), ('thin', 'ADJ'), ('inefficiencies', 'NOUN'), ('between', 'ADP'), ('two', 'NUM'), ('markets', 'NOUN'), ('for', 'ADP'), ('the', 'DET'), ('same', 'ADJ'), ('widget', 'NOUN'), (',', '.'), ('how', 'ADV'), ('did', 'VERB'), ('``', '.'), ('program', 'NOUN'), ('trading', 'NOUN'), (\"''\", '.'), ('evolve', 'CONJ'), ('into', 'ADP'), ('the', 'DET'), ('evil', 'ADJ'), ('creature', 'CONJ'), ('that', 'DET'), ('*T*-2', 'X'), ('is', 'VERB'), ('evoking', 'CONJ'), ('the', 'DET'), ('curses', 'CONJ'), ('of', 'ADP'), ('so', 'ADV'), ('many', 'ADJ'), ('observers', 'NOUN'), ('*T*-1', 'X'), ('?', '.'), ('Each', 'DET'), ('50,000', 'NUM'), ('Swiss', 'ADJ'), ('franc', 'NOUN'), ('note', 'NOUN'), ('is', 'VERB'), ('convertible', 'ADJ'), ('from', 'ADP'), ('Dec.', 'NOUN'), ('5', 'NUM'), (',', '.'), ('1989', 'NUM'), (',', '.'), ('to', 'PRT'), ('Dec.', 'NOUN'), ('31', 'NUM'), (',', '.'), ('1993', 'NUM'), (',', '.'), ('at', 'ADP'), ('a', 'DET'), ('5', 'NUM'), ('%', 'NOUN'), ('premium', 'NOUN'), ('over', 'ADP'), ('the', 'DET'), ('closing', 'ADJ'), ('share', 'NOUN'), ('price', 'NOUN'), ('Tuesday', 'NOUN'), (',', '.'), ('when', 'ADV'), ('terms', 'NOUN'), ('are', 'VERB'), ('scheduled', 'VERB'), ('*-3', 'X'), ('to', 'PRT'), ('be', 'VERB'), ('fixed', 'VERB'), ('*-1', 'X'), ('*T*-2', 'X'), ('.', '.'), ('On', 'ADP'), ('the', 'DET'), ('Commodity', 'NOUN'), ('Exchange', 'NOUN'), ('in', 'ADP'), ('New', 'NOUN'), ('York', 'NOUN'), (',', '.'), ('gold', 'NOUN'), ('for', 'ADP'), ('current', 'ADJ'), ('delivery', 'NOUN'), ('settled', 'VERB'), ('at', 'ADP'), ('$', '.'), ('374.20', 'CONJ'), ('*U*', 'X'), ('an', 'DET'), ('ounce', 'NOUN'), (',', '.'), ('down', 'ADV'), ('50', 'NUM'), ('cents', 'NOUN'), ('.', '.'), ('Its', 'PRON'), ('subsidiaries', 'NOUN'), (\"'\", 'PRT'), ('services', 'NOUN'), ('are', 'VERB'), ('marketed', 'VERB'), ('*-1', 'X'), ('by', 'ADP'), ('closely', 'ADV'), ('held', 'VERB'), ('A.L.', 'NOUN'), ('Williams', 'NOUN'), ('&', 'CONJ'), ('Associates', 'NOUN'), ('.', '.'), ('On', 'ADP'), ('the', 'DET'), ('Commodity', 'NOUN'), ('Exchange', 'NOUN'), ('in', 'ADP'), ('New', 'NOUN'), ('York', 'NOUN'), (',', '.'), ('gold', 'NOUN'), ('for', 'ADP'), ('current', 'ADJ'), ('delivery', 'NOUN'), ('settled', 'VERB'), ('at', 'ADP'), ('$', '.'), ('374.20', 'CONJ'), ('*U*', 'X'), ('an', 'DET'), ('ounce', 'NOUN'), (',', '.'), ('down', 'ADV'), ('50', 'NUM'), ('cents', 'NOUN'), ('.', '.'), ('Separately', 'ADV'), (',', '.'), ('the', 'DET'), ('Federal', 'NOUN'), ('Energy', 'NOUN'), ('Regulatory', 'CONJ'), ('Commission', 'NOUN'), ('turned', 'VERB'), ('down', 'ADV'), ('for', 'ADP'), ('now', 'ADV'), ('a', 'DET'), ('request', 'NOUN'), ('by', 'ADP'), ('Northeast', 'NOUN'), ('seeking', 'VERB'), ('approval', 'NOUN'), ('of', 'ADP'), ('its', 'PRON'), ('possible', 'ADJ'), ('purchase', 'NOUN'), ('of', 'ADP'), ('PS', 'NOUN'), ('of', 'ADP'), ('New', 'NOUN'), ('Hampshire', 'NOUN'), ('.', '.'), ('``', '.'), ('It', 'PRON'), (\"'s\", 'VERB'), ('not', 'ADV'), ('a', 'DET'), ('very', 'ADV'), ('meaningful', 'ADJ'), ('indicator', 'NOUN'), ('currently', 'ADV'), ('because', 'ADP'), ('corporations', 'NOUN'), ('are', 'VERB'), ('not', 'ADV'), ('behaving', 'CONJ'), ('in', 'ADP'), ('a', 'DET'), ('traditional', 'ADJ'), ('manner', 'NOUN'), (',', '.'), (\"''\", '.'), ('says', 'VERB'), ('*T*-1', 'X'), ('James', 'NOUN'), ('H.', 'NOUN'), ('Coxon', 'NOUN'), (',', '.'), ('head', 'NOUN'), ('of', 'ADP'), ('stock', 'NOUN'), ('investments', 'NOUN'), ('for', 'ADP'), ('Cigna', 'NOUN'), ('Corp.', 'NOUN'), (',', '.'), ('the', 'DET'), ('Philadelphia-based', 'CONJ'), ('insurer', 'NOUN'), ('.', '.'), ('The', 'DET'), ('AT&T', 'NOUN'), ('team', 'NOUN'), ('also', 'ADV'), ('is', 'VERB'), ('trying', 'VERB'), ('*-1', 'X'), ('to', 'PRT'), ('combine', 'CONJ'), ('their', 'PRON'), ('latest', 'ADJ'), ('superconductor', 'NOUN'), ('process', 'NOUN'), ('with', 'ADP'), ('``', '.'), ('melt-textured', 'CONJ'), ('growth', 'NOUN'), (',', '.'), (\"''\", '.'), ('a', 'DET'), ('process', 'NOUN'), ('discovered', 'VERB'), ('*', 'X'), ('earlier', 'ADV'), ('at', 'ADP'), ('Bell', 'NOUN'), ('Laboratories', 'NOUN'), ('.', '.'), ('While', 'ADP'), ('worry', 'VERB'), ('*ICH*-1', 'X'), ('grows', 'VERB'), ('about', 'ADP'), ('big', 'ADJ'), ('Japanese', 'ADJ'), ('investments', 'NOUN'), ('in', 'ADP'), ('the', 'DET'), ('U.S.', 'NOUN'), (',', '.'), ('Japan', 'NOUN'), (\"'s\", 'PRT'), ('big', 'ADJ'), ('trading', 'NOUN'), ('companies', 'NOUN'), ('are', 'VERB'), ('rapidly', 'ADV'), ('increasing', 'VERB'), ('their', 'PRON'), ('stake', 'NOUN'), ('in', 'ADP'), ('America', 'NOUN'), (\"'s\", 'PRT'), ('smaller', 'ADJ'), ('business', 'NOUN'), ('.', '.'), ('The', 'DET'), ('company', 'NOUN'), ('said', 'VERB'), ('0', 'X'), ('holders', 'NOUN'), ('of', 'ADP'), ('stock', 'NOUN'), ('of', 'ADP'), ('record', 'NOUN'), ('Nov.', 'NOUN'), ('10', 'NUM'), ('will', 'VERB'), ('receive', 'VERB'), ('1\\\\/10th', 'CONJ'), ('of', 'ADP'), ('one', 'NUM'), ('cent', 'NOUN'), ('a', 'DET'), ('share', 'NOUN'), ('as', 'ADP'), ('the', 'DET'), ('redemption', 'CONJ'), ('payment', 'NOUN'), ('.', '.'), ('In', 'ADP'), ('his', 'PRON'), ('ruling', 'NOUN'), (',', '.'), ('Judge', 'NOUN'), ('Curry', 'NOUN'), ('added', 'VERB'), ('an', 'DET'), ('additional', 'ADJ'), ('$', '.'), ('55', 'NUM'), ('million', 'NUM'), ('*U*', 'X'), ('to', 'PRT'), ('the', 'DET'), ('commission', 'NOUN'), (\"'s\", 'PRT'), ('calculations', 'CONJ'), ('.', '.'), ('When', 'ADV'), ('*-4', 'X'), ('offered', 'VERB'), ('*-3', 'X'), ('a', 'DET'), ('free', 'ADJ'), ('trip', 'CONJ'), ('from', 'ADP'), ('the', 'DET'), ('Bronx', 'NOUN'), (',', '.'), ('Wedtech', 'NOUN'), (\"'s\", 'PRT'), ('home', 'NOUN'), (',', '.'), ('to', 'PRT'), ('Washington', 'NOUN'), (',', '.'), ('D.C.', 'NOUN'), (',', '.'), ('by', 'ADP'), ('one', 'NUM'), ('of', 'ADP'), ('Wedtech', 'NOUN'), (\"'s\", 'PRT'), ('principals', 'NOUN'), ('*T*-2', 'X'), (',', '.'), ('he', 'PRON'), ('tells', 'VERB'), ('the', 'DET'), ('reader', 'NOUN'), (',', '.'), ('``', '.'), ('*-5', 'X'), ('mindful', 'CONJ'), ('of', 'ADP'), ('*', 'X'), ('accepting', 'VERB'), ('anything', 'NOUN'), ('of', 'ADP'), ('value', 'NOUN'), ('from', 'ADP'), ('those', 'DET'), ('0', 'X'), ('I', 'PRON'), ('was', 'VERB'), ('writing', 'VERB'), ('about', 'ADP'), ('*T*-1', 'X'), (',', '.'), ('I', 'PRON'), ('declined', 'VERB'), ('.', '.'), (\"''\", '.'), ('``', '.'), ('The', 'DET'), ('theory', 'NOUN'), ('is', 'VERB'), ('that', 'ADP'), ('Seymour', 'NOUN'), ('is', 'VERB'), ('the', 'DET'), ('chief', 'NOUN'), ('designer', 'NOUN'), ('of', 'ADP'), ('the', 'DET'), ('Cray-3', 'NOUN'), (',', '.'), ('and', 'CONJ'), ('without', 'ADP'), ('him', 'PRON'), ('it', 'PRON'), ('could', 'VERB'), ('not', 'ADV'), ('be', 'VERB'), ('completed', 'VERB'), ('*-20', 'X'), ('.', '.'), ('--', '.'), ('The', 'DET'), ('USIA', 'NOUN'), ('said', 'VERB'), ('that', 'ADP'), (',', '.'), ('on', 'ADP'), ('reflection', 'NOUN'), (',', '.'), ('of', 'ADP'), ('course', 'NOUN'), ('I', 'PRON'), ('could', 'VERB'), ('print', 'VERB'), ('anything', 'NOUN'), ('0', 'X'), ('I', 'PRON'), ('could', 'VERB'), ('get', 'VERB'), ('my', 'PRON'), ('hands', 'NOUN'), ('on', 'ADP'), ('*T*-1', 'X'), ('.', '.'), ('That', 'DET'), ('sounds', 'NOUN'), ('neat', 'CONJ'), (',', '.'), ('but', 'CONJ'), ('this', 'DET'), ('government', 'NOUN'), ('--', '.'), ('any', 'DET'), ('government', 'NOUN'), ('--', '.'), ('propagandizes', 'CONJ'), ('its', 'PRON'), ('own', 'ADJ'), ('people', 'NOUN'), ('every', 'DET'), ('day', 'NOUN'), ('.', '.'), ('President', 'NOUN'), ('Reagan', 'NOUN'), ('learned', 'VERB'), ('that', 'ADP'), ('lesson', 'NOUN'), ('.', '.'), ('The', 'DET'), ('asbestos', 'NOUN'), ('fiber', 'CONJ'), (',', '.'), ('crocidolite', 'NOUN'), (',', '.'), ('is', 'VERB'), ('unusually', 'ADV'), ('resilient', 'CONJ'), ('once', 'ADV'), ('it', 'PRON'), ('enters', 'VERB'), ('the', 'DET'), ('lungs', 'CONJ'), (',', '.'), ('with', 'ADP'), ('even', 'ADV'), ('brief', 'ADJ'), ('exposures', 'NOUN'), ('to', 'PRT'), ('it', 'PRON'), ('causing', 'VERB'), ('symptoms', 'CONJ'), ('that', 'DET'), ('*T*-1', 'X'), ('show', 'VERB'), ('up', 'ADV'), ('decades', 'NOUN'), ('later', 'ADJ'), (',', '.'), ('researchers', 'NOUN'), ('said', 'VERB'), ('0', 'X'), ('*T*-2', 'X'), ('.', '.'), ('They', 'PRON'), ('argue', 'VERB'), ('that', 'ADP'), ('U.S.', 'NOUN'), ('investors', 'NOUN'), ('often', 'ADV'), ('can', 'VERB'), ('buy', 'VERB'), ('American', 'ADJ'), ('depositary', 'NOUN'), ('receipts', 'NOUN'), ('on', 'ADP'), ('the', 'DET'), ('big', 'ADJ'), ('stocks', 'NOUN'), ('in', 'ADP'), ('many', 'ADJ'), ('funds', 'NOUN'), (';', '.'), ('these', 'DET'), ('so-called', 'ADJ'), ('ADRs', 'NOUN'), ('represent', 'VERB'), ('shares', 'NOUN'), ('of', 'ADP'), ('foreign', 'ADJ'), ('companies', 'NOUN'), ('traded', 'VERB'), ('*', 'X'), ('in', 'ADP'), ('the', 'DET'), ('U.S.', 'NOUN'), ('.', '.'), ('Preliminary', 'CONJ'), ('tallies', 'CONJ'), ('by', 'ADP'), ('the', 'DET'), ('Trade', 'NOUN'), ('and', 'CONJ'), ('Industry', 'NOUN'), ('Ministry', 'NOUN'), ('showed', 'VERB'), ('another', 'DET'), ('trade', 'NOUN'), ('deficit', 'NOUN'), ('in', 'ADP'), ('October', 'NOUN'), (',', '.'), ('the', 'DET'), ('fifth', 'ADJ'), ('monthly', 'ADJ'), ('setback', 'CONJ'), ('this', 'DET'), ('year', 'NOUN'), (',', '.'), ('*', 'X'), ('casting', 'VERB'), ('a', 'DET'), ('cloud', 'CONJ'), ('on', 'ADP'), ('South', 'NOUN'), ('Korea', 'NOUN'), (\"'s\", 'PRT'), ('export-oriented', 'CONJ'), ('economy', 'NOUN'), ('.', '.'), ('This', 'DET'), ('is', 'VERB'), ('the', 'DET'), ('real', 'ADJ'), ('issue', 'NOUN'), ('raised', 'VERB'), ('*', 'X'), ('by', 'ADP'), ('the', 'DET'), ('Wedtech', 'NOUN'), ('scandal', 'NOUN'), ('.', '.'), ('Spirit', 'CONJ'), ('of', 'ADP'), ('Perestroika', 'CONJ'), ('Touches', 'CONJ'), ('Design', 'CONJ'), ('World', 'NOUN'), ('She', 'PRON'), ('said', 'VERB'), ('0', 'X'), ('there', 'DET'), ('is', 'VERB'), ('``', '.'), ('growing', 'VERB'), ('realization', 'NOUN'), ('*ICH*-1', 'X'), (\"''\", '.'), ('around', 'ADP'), ('the', 'DET'), ('world', 'NOUN'), ('that', 'ADP'), ('denial', 'CONJ'), ('of', 'ADP'), ('intellectual-property', 'ADJ'), ('rights', 'NOUN'), ('harms', 'CONJ'), ('all', 'DET'), ('trading', 'NOUN'), ('nations', 'NOUN'), (',', '.'), ('and', 'CONJ'), ('particularly', 'ADV'), ('the', 'DET'), ('``', '.'), ('creativity', 'NOUN'), ('and', 'CONJ'), ('inventiveness', 'CONJ'), ('of', 'ADP'), ('an', 'DET'), ('-LCB-', '.'), ('offending', 'CONJ'), ('-RCB-', '.'), ('country', 'NOUN'), (\"'s\", 'PRT'), ('own', 'ADJ'), ('citizens', 'CONJ'), ('.', '.'), (\"''\", '.'), ('INGERSOLL-RAND', 'CONJ'), ('Co', 'NOUN'), ('.', '.'), ('-LRB-', '.'), ('Woodcliff', 'CONJ'), ('Lake', 'NOUN'), (',', '.'), ('N.J', 'NOUN'), ('.', '.'), ('-RRB-', '.'), ('--', '.'), ('Pierre', 'CONJ'), ('Vinken', 'NOUN'), (',', '.'), ('61', 'NUM'), ('years', 'NOUN'), ('old', 'ADJ'), (',', '.'), ('will', 'VERB'), ('join', 'VERB'), ('the', 'DET'), ('board', 'NOUN'), ('as', 'ADP'), ('a', 'DET'), ('nonexecutive', 'ADJ'), ('director', 'NOUN'), ('Nov.', 'NOUN'), ('29', 'NUM'), ('.', '.'), ('Although', 'ADP'), ('U.S.', 'NOUN'), ('corn', 'NOUN'), ('stockpiles', 'NOUN'), ('shrank', 'VERB'), ('by', 'ADP'), ('roughly', 'ADV'), ('half', 'DET'), ('in', 'ADP'), ('the', 'DET'), ('wake', 'NOUN'), ('of', 'ADP'), ('the', 'DET'), ('drought', 'NOUN'), (',', '.'), ('the', 'DET'), ('Agriculture', 'NOUN'), ('Department', 'NOUN'), ('projects', 'NOUN'), ('that', 'ADP'), ('nearly', 'ADV'), ('one-fifth', 'CONJ'), ('of', 'ADP'), ('the', 'DET'), ('harvest', 'NOUN'), ('will', 'VERB'), ('still', 'ADV'), ('be', 'VERB'), ('in', 'ADP'), ('storage', 'NOUN'), ('before', 'ADP'), ('the', 'DET'), ('1990', 'NUM'), ('corn', 'NOUN'), ('harvest', 'NOUN'), ('begins', 'VERB'), ('.', '.'), ('Mrs.', 'NOUN'), ('Yeargin', 'NOUN'), ('says', 'VERB'), ('that', 'ADP'), ('she', 'PRON'), ('also', 'ADV'), ('wanted', 'VERB'), ('*-1', 'X'), ('to', 'PRT'), ('help', 'VERB'), ('*-2', 'X'), ('lift', 'VERB'), ('Greenville', 'NOUN'), ('High', 'NOUN'), ('School', 'NOUN'), (\"'s\", 'PRT'), ('overall', 'ADJ'), ('test', 'NOUN'), ('scores', 'NOUN'), (',', '.'), ('usually', 'ADV'), ('near', 'ADP'), ('the', 'DET'), ('bottom', 'NOUN'), ('of', 'ADP'), ('14', 'NUM'), ('district', 'NOUN'), ('high', 'ADJ'), ('schools', 'NOUN'), ('in', 'ADP'), ('rankings', 'CONJ'), ('carried', 'VERB'), ('*', 'X'), ('annually', 'ADV'), ('by', 'ADP'), ('local', 'ADJ'), ('newspapers', 'NOUN'), ('.', '.'), ('Younkers', 'NOUN'), ('rang', 'CONJ'), ('up', 'ADV'), ('sales', 'NOUN'), ('*ICH*-1', 'X'), ('in', 'ADP'), ('1988', 'NUM'), ('of', 'ADP'), ('$', '.'), ('313', 'CONJ'), ('million', 'NUM'), ('*U*', 'X'), ('.', '.'), ('Such', 'ADJ'), ('laws', 'NOUN'), ('violate', 'VERB'), ('the', 'DET'), ('provision', 'NOUN'), ('in', 'ADP'), ('Article', 'NOUN'), ('II', 'NOUN'), ('that', 'ADP'), ('*T*-1', 'X'), ('requires', 'VERB'), ('the', 'DET'), ('president', 'NOUN'), ('to', 'PRT'), ('make', 'VERB'), ('recommendations', 'NOUN'), ('to', 'PRT'), ('Congress', 'NOUN'), (',', '.'), ('but', 'CONJ'), ('which', 'DET'), ('*T*-41', 'X'), ('gives', 'VERB'), ('the', 'DET'), ('president', 'NOUN'), ('the', 'DET'), ('discretion', 'CONJ'), ('0', 'X'), ('*', 'X'), ('to', 'PRT'), ('select', 'CONJ'), ('the', 'DET'), ('subject', 'ADJ'), ('matter', 'NOUN'), ('of', 'ADP'), ('those', 'DET'), ('recommendations', 'NOUN'), ('*T*-2', 'X'), ('.', '.'), ('The', 'DET'), ('more', 'ADJ'), ('accounts', 'NOUN'), ('0', 'X'), ('customers', 'NOUN'), ('have', 'VERB'), ('*T*-1', 'X'), (',', '.'), ('Mr.', 'NOUN'), ('Sullivan', 'NOUN'), ('says', 'VERB'), ('0', 'X'), ('*T*-2', 'X'), (',', '.'), ('the', 'DET'), ('more', 'ADJ'), ('likely', 'ADJ'), ('they', 'PRON'), ('are', 'VERB'), ('*-3', 'X'), ('to', 'PRT'), ('be', 'VERB'), ('attracted', 'VERB'), ('*-123', 'CONJ'), ('to', 'PRT'), ('a', 'DET'), ('package', 'NOUN'), ('--', '.'), ('and', 'CONJ'), ('*-3', 'X'), ('to', 'PRT'), ('be', 'VERB'), ('loyal', 'CONJ'), ('to', 'PRT'), ('the', 'DET'), ('bank', 'NOUN'), ('that', 'ADP'), ('*T*-205', 'CONJ'), ('offers', 'VERB'), ('it', 'PRON'), ('.', '.'), ('Who', 'PRON'), ('*T*-1', 'X'), ('knows', 'VERB'), ('what', 'PRON'), ('*T*-2', 'X'), ('will', 'VERB'), ('happen', 'VERB'), ('down', 'ADV'), ('the', 'DET'), ('road', 'NOUN'), (',', '.'), ('in', 'ADP'), ('three', 'NUM'), ('to', 'PRT'), ('six', 'NUM'), ('months', 'NOUN'), (',', '.'), ('if', 'ADP'), ('foreign', 'ADJ'), ('investment', 'NOUN'), ('starts', 'VERB'), ('*-3', 'X'), ('to', 'PRT'), ('erode', 'CONJ'), ('?', '.'), (\"''\", '.'), ('For', 'ADP'), ('the', 'DET'), ('nine', 'NUM'), ('months', 'NOUN'), (',', '.'), ('the', 'DET'), ('company', 'NOUN'), ('reported', 'VERB'), ('a', 'DET'), ('net', 'ADJ'), ('loss', 'NOUN'), ('of', 'ADP'), ('$', '.'), ('608,413', 'CONJ'), ('*U*', 'X'), (',', '.'), ('or', 'CONJ'), ('39', 'NUM'), ('cents', 'NOUN'), ('a', 'DET'), ('share', 'NOUN'), (',', '.'), ('compared', 'VERB'), ('with', 'ADP'), ('year-earlier', 'ADJ'), ('net', 'ADJ'), ('income', 'NOUN'), ('of', 'ADP'), ('$', '.'), ('967,809', 'CONJ'), ('*U*', 'X'), (',', '.'), ('or', 'CONJ'), ('62', 'NUM'), ('cents', 'NOUN'), ('a', 'DET'), ('share', 'NOUN'), ('.', '.'), ('But', 'CONJ'), ('in', 'ADP'), ('August', 'NOUN'), (',', '.'), ('First', 'NOUN'), ('Atlanta', 'NOUN'), ('National', 'NOUN'), ('Bank', 'NOUN'), ('introduced', 'VERB'), ('its', 'PRON'), ('Crown', 'NOUN'), ('Account', 'NOUN'), (',', '.'), ('a', 'DET'), ('package', 'NOUN'), ('designed', 'VERB'), ('*', 'X'), ('*-1', 'X'), ('to', 'PRT'), ('lure', 'VERB'), ('customers', 'NOUN'), ('such', 'ADJ'), ('as', 'ADP'), ('Ms.', 'NOUN'), ('Driskill', 'NOUN'), ('.', '.'), ('This', 'DET'), ('trial', 'NOUN'), ('is', 'VERB'), ('expected', 'VERB'), ('*-1', 'X'), ('to', 'PRT'), ('last', 'ADJ'), ('five', 'NUM'), ('weeks', 'NOUN'), ('.', '.'), ('Spirit', 'CONJ'), ('of', 'ADP'), ('Perestroika', 'CONJ'), ('Touches', 'CONJ'), ('Design', 'CONJ'), ('World', 'NOUN'), ('``', '.'), ('It', 'PRON'), (\"'s\", 'VERB'), ('not', 'ADV'), ('a', 'DET'), ('very', 'ADV'), ('meaningful', 'ADJ'), ('indicator', 'NOUN'), ('currently', 'ADV'), ('because', 'ADP'), ('corporations', 'NOUN'), ('are', 'VERB'), ('not', 'ADV'), ('behaving', 'CONJ'), ('in', 'ADP'), ('a', 'DET'), ('traditional', 'ADJ'), ('manner', 'NOUN'), (',', '.'), (\"''\", '.'), ('says', 'VERB'), ('*T*-1', 'X'), ('James', 'NOUN'), ('H.', 'NOUN'), ('Coxon', 'NOUN'), (',', '.'), ('head', 'NOUN'), ('of', 'ADP'), ('stock', 'NOUN'), ('investments', 'NOUN'), ('for', 'ADP'), ('Cigna', 'NOUN'), ('Corp.', 'NOUN'), (',', '.'), ('the', 'DET'), ('Philadelphia-based', 'CONJ'), ('insurer', 'NOUN'), ('.', '.'), ('Western', 'NOUN'), ('Union', 'NOUN'), ('indeed', 'ADV'), ('wanted', 'VERB'), ('*-1', 'X'), ('to', 'PRT'), ('get', 'VERB'), ('into', 'ADP'), ('the', 'DET'), ('telephone', 'NOUN'), ('business', 'NOUN'), ('.', '.'), ('While', 'ADP'), ('worry', 'VERB'), ('*ICH*-1', 'X'), ('grows', 'VERB'), ('about', 'ADP'), ('big', 'ADJ'), ('Japanese', 'ADJ'), ('investments', 'NOUN'), ('in', 'ADP'), ('the', 'DET'), ('U.S.', 'NOUN'), (',', '.'), ('Japan', 'NOUN'), (\"'s\", 'PRT'), ('big', 'ADJ'), ('trading', 'NOUN'), ('companies', 'NOUN'), ('are', 'VERB'), ('rapidly', 'ADV'), ('increasing', 'VERB'), ('their', 'PRON'), ('stake', 'NOUN'), ('in', 'ADP'), ('America', 'NOUN'), (\"'s\", 'PRT'), ('smaller', 'ADJ'), ('business', 'NOUN'), ('.', '.'), ('So', 'ADV'), ('if', 'ADP'), ('index', 'NOUN'), ('arbitrage', 'NOUN'), ('is', 'VERB'), ('simply', 'ADV'), ('*', 'X'), ('taking', 'VERB'), ('advantage', 'NOUN'), ('of', 'ADP'), ('thin', 'ADJ'), ('inefficiencies', 'NOUN'), ('between', 'ADP'), ('two', 'NUM'), ('markets', 'NOUN'), ('for', 'ADP'), ('the', 'DET'), ('same', 'ADJ'), ('widget', 'NOUN'), (',', '.'), ('how', 'ADV'), ('did', 'VERB'), ('``', '.'), ('program', 'NOUN'), ('trading', 'NOUN'), (\"''\", '.'), ('evolve', 'CONJ'), ('into', 'ADP'), ('the', 'DET'), ('evil', 'ADJ'), ('creature', 'CONJ'), ('that', 'DET'), ('*T*-2', 'X'), ('is', 'VERB'), ('evoking', 'CONJ'), ('the', 'DET'), ('curses', 'CONJ'), ('of', 'ADP'), ('so', 'ADV'), ('many', 'ADJ'), ('observers', 'NOUN'), ('*T*-1', 'X'), ('?', '.'), ('That', 'DET'), ('settlement', 'NOUN'), ('was', 'VERB'), ('in', 'ADP'), ('April', 'NOUN'), ('1987', 'NUM'), ('.', '.'), ('This', 'DET'), ('is', 'VERB'), ('the', 'DET'), ('real', 'ADJ'), ('issue', 'NOUN'), ('raised', 'VERB'), ('*', 'X'), ('by', 'ADP'), ('the', 'DET'), ('Wedtech', 'NOUN'), ('scandal', 'NOUN'), ('.', '.')]\n"
     ]
    }
   ],
   "source": [
    "print(\"Time taken in seconds: \", difference)\n",
    "print(tagged_seq_1)"
   ]
  },
  {
   "cell_type": "code",
   "execution_count": 47,
   "metadata": {},
   "outputs": [],
   "source": [
    "# accuracy\n",
    "check_1 = [i for i, j in zip(tagged_seq_1, test_run_base) if i == j] "
   ]
  },
  {
   "cell_type": "code",
   "execution_count": 49,
   "metadata": {},
   "outputs": [],
   "source": [
    "accuracy_1 = len(check_1)/len(tagged_seq_1)"
   ]
  },
  {
   "cell_type": "code",
   "execution_count": 50,
   "metadata": {},
   "outputs": [
    {
     "data": {
      "text/plain": [
       "0.9234527687296417"
      ]
     },
     "execution_count": 50,
     "metadata": {},
     "output_type": "execute_result"
    }
   ],
   "source": [
    "accuracy_1"
   ]
  },
  {
   "cell_type": "code",
   "execution_count": 51,
   "metadata": {},
   "outputs": [],
   "source": [
    "incorrect_tagged_cases_1 = [[test_run_base[i-1],j] for i, j in enumerate(zip(tagged_seq_1, test_run_base)) if j[0]!=j[1]]"
   ]
  },
  {
   "cell_type": "code",
   "execution_count": 52,
   "metadata": {
    "scrolled": false
   },
   "outputs": [
    {
     "data": {
      "text/plain": [
       "[[('But', 'CONJ'), (('civilization', 'CONJ'), ('civilization', 'NOUN'))],\n",
       " [('learned', 'VERB'), (('that', 'ADP'), ('that', 'DET'))],\n",
       " [(',', '.'), (('traced', 'CONJ'), ('traced', 'VERB'))],\n",
       " [('another', 'DET'), (('wave', 'CONJ'), ('wave', 'NOUN'))],\n",
       " [('the', 'DET'), (('chief', 'NOUN'), ('chief', 'ADJ'))],\n",
       " [('be', 'VERB'), (('as', 'ADP'), ('as', 'ADV'))],\n",
       " [('any', 'DET'), (('proposals', 'CONJ'), ('proposals', 'NOUN'))],\n",
       " [('.', '.'), (('Areas', 'CONJ'), ('Areas', 'NOUN'))],\n",
       " [('particularly', 'ADV'), (('dusty', 'CONJ'), ('dusty', 'ADJ'))],\n",
       " [('by', 'ADP'), (('American', 'ADJ'), ('American', 'NOUN'))],\n",
       " [(\"''\", '.'), (('evolve', 'CONJ'), ('evolve', 'VERB'))],\n",
       " [('evil', 'ADJ'), (('creature', 'CONJ'), ('creature', 'NOUN'))],\n",
       " [('is', 'VERB'), (('evoking', 'CONJ'), ('evoking', 'VERB'))],\n",
       " [('the', 'DET'), (('curses', 'CONJ'), ('curses', 'NOUN'))],\n",
       " [('$', '.'), (('374.20', 'CONJ'), ('374.20', 'NUM'))],\n",
       " [(',', '.'), (('down', 'ADV'), ('down', 'ADP'))],\n",
       " [('$', '.'), (('374.20', 'CONJ'), ('374.20', 'NUM'))],\n",
       " [(',', '.'), (('down', 'ADV'), ('down', 'ADP'))],\n",
       " [('Energy', 'NOUN'), (('Regulatory', 'CONJ'), ('Regulatory', 'NOUN'))],\n",
       " [('turned', 'VERB'), (('down', 'ADV'), ('down', 'PRT'))],\n",
       " [('not', 'ADV'), (('behaving', 'CONJ'), ('behaving', 'VERB'))],\n",
       " [('the', 'DET'),\n",
       "  (('Philadelphia-based', 'CONJ'), ('Philadelphia-based', 'ADJ'))],\n",
       " [('to', 'PRT'), (('combine', 'CONJ'), ('combine', 'VERB'))],\n",
       " [('``', '.'), (('melt-textured', 'CONJ'), ('melt-textured', 'ADJ'))],\n",
       " [('*', 'X'), (('earlier', 'ADV'), ('earlier', 'ADJ'))],\n",
       " [('While', 'ADP'), (('worry', 'VERB'), ('worry', 'NOUN'))],\n",
       " [('receive', 'VERB'), (('1\\\\/10th', 'CONJ'), ('1\\\\/10th', 'NOUN'))],\n",
       " [('the', 'DET'), (('redemption', 'CONJ'), ('redemption', 'NOUN'))],\n",
       " [(\"'s\", 'PRT'), (('calculations', 'CONJ'), ('calculations', 'NOUN'))],\n",
       " [('free', 'ADJ'), (('trip', 'CONJ'), ('trip', 'NOUN'))],\n",
       " [('*-5', 'X'), (('mindful', 'CONJ'), ('mindful', 'ADJ'))],\n",
       " [('the', 'DET'), (('chief', 'NOUN'), ('chief', 'ADJ'))],\n",
       " [('That', 'DET'), (('sounds', 'NOUN'), ('sounds', 'VERB'))],\n",
       " [('sounds', 'VERB'), (('neat', 'CONJ'), ('neat', 'ADJ'))],\n",
       " [('--', '.'), (('propagandizes', 'CONJ'), ('propagandizes', 'VERB'))],\n",
       " [('learned', 'VERB'), (('that', 'ADP'), ('that', 'DET'))],\n",
       " [('asbestos', 'NOUN'), (('fiber', 'CONJ'), ('fiber', 'NOUN'))],\n",
       " [('unusually', 'ADV'), (('resilient', 'CONJ'), ('resilient', 'ADJ'))],\n",
       " [('resilient', 'ADJ'), (('once', 'ADV'), ('once', 'ADP'))],\n",
       " [('the', 'DET'), (('lungs', 'CONJ'), ('lungs', 'NOUN'))],\n",
       " [('causing', 'VERB'), (('symptoms', 'CONJ'), ('symptoms', 'NOUN'))],\n",
       " [('show', 'VERB'), (('up', 'ADV'), ('up', 'PRT'))],\n",
       " [('American', 'ADJ'), (('depositary', 'NOUN'), ('depositary', 'ADJ'))],\n",
       " [('.', '.'), (('Preliminary', 'CONJ'), ('Preliminary', 'ADJ'))],\n",
       " [('Preliminary', 'ADJ'), (('tallies', 'CONJ'), ('tallies', 'NOUN'))],\n",
       " [('monthly', 'ADJ'), (('setback', 'CONJ'), ('setback', 'NOUN'))],\n",
       " [('a', 'DET'), (('cloud', 'CONJ'), ('cloud', 'NOUN'))],\n",
       " [(\"'s\", 'PRT'), (('export-oriented', 'CONJ'), ('export-oriented', 'ADJ'))],\n",
       " [('.', '.'), (('Spirit', 'CONJ'), ('Spirit', 'NOUN'))],\n",
       " [('of', 'ADP'), (('Perestroika', 'CONJ'), ('Perestroika', 'X'))],\n",
       " [('Perestroika', 'X'), (('Touches', 'CONJ'), ('Touches', 'VERB'))],\n",
       " [('Touches', 'VERB'), (('Design', 'CONJ'), ('Design', 'NOUN'))],\n",
       " [('world', 'NOUN'), (('that', 'ADP'), ('that', 'DET'))],\n",
       " [('that', 'DET'), (('denial', 'CONJ'), ('denial', 'NOUN'))],\n",
       " [('rights', 'NOUN'), (('harms', 'CONJ'), ('harms', 'VERB'))],\n",
       " [('all', 'DET'), (('trading', 'NOUN'), ('trading', 'VERB'))],\n",
       " [('and', 'CONJ'), (('inventiveness', 'CONJ'), ('inventiveness', 'NOUN'))],\n",
       " [('-LCB-', '.'), (('offending', 'CONJ'), ('offending', 'VERB'))],\n",
       " [('own', 'ADJ'), (('citizens', 'CONJ'), ('citizens', 'NOUN'))],\n",
       " [(\"''\", '.'), (('INGERSOLL-RAND', 'CONJ'), ('INGERSOLL-RAND', 'NOUN'))],\n",
       " [('-LRB-', '.'), (('Woodcliff', 'CONJ'), ('Woodcliff', 'NOUN'))],\n",
       " [('--', '.'), (('Pierre', 'CONJ'), ('Pierre', 'NOUN'))],\n",
       " [('Department', 'NOUN'), (('projects', 'NOUN'), ('projects', 'VERB'))],\n",
       " [('nearly', 'ADV'), (('one-fifth', 'CONJ'), ('one-fifth', 'NOUN'))],\n",
       " [('in', 'ADP'), (('rankings', 'CONJ'), ('rankings', 'NOUN'))],\n",
       " [('Younkers', 'NOUN'), (('rang', 'CONJ'), ('rang', 'VERB'))],\n",
       " [('rang', 'VERB'), (('up', 'ADV'), ('up', 'PRT'))],\n",
       " [('$', '.'), (('313', 'CONJ'), ('313', 'NUM'))],\n",
       " [('II', 'NOUN'), (('that', 'ADP'), ('that', 'DET'))],\n",
       " [('the', 'DET'), (('discretion', 'CONJ'), ('discretion', 'NOUN'))],\n",
       " [('to', 'PRT'), (('select', 'CONJ'), ('select', 'VERB'))],\n",
       " [('the', 'DET'), (('more', 'ADJ'), ('more', 'ADV'))],\n",
       " [('attracted', 'VERB'), (('*-123', 'CONJ'), ('*-123', 'X'))],\n",
       " [('--', '.'), (('and', 'CONJ'), ('and', 'NOUN'))],\n",
       " [('be', 'VERB'), (('loyal', 'CONJ'), ('loyal', 'ADJ'))],\n",
       " [('bank', 'NOUN'), (('that', 'ADP'), ('that', 'DET'))],\n",
       " [('that', 'DET'), (('*T*-205', 'CONJ'), ('*T*-205', 'X'))],\n",
       " [('happen', 'VERB'), (('down', 'ADV'), ('down', 'ADP'))],\n",
       " [('to', 'PRT'), (('erode', 'CONJ'), ('erode', 'VERB'))],\n",
       " [('$', '.'), (('608,413', 'CONJ'), ('608,413', 'NUM'))],\n",
       " [('$', '.'), (('967,809', 'CONJ'), ('967,809', 'NUM'))],\n",
       " [(',', '.'), (('First', 'NOUN'), ('First', 'ADJ'))],\n",
       " [('to', 'PRT'), (('last', 'ADJ'), ('last', 'VERB'))],\n",
       " [('.', '.'), (('Spirit', 'CONJ'), ('Spirit', 'NOUN'))],\n",
       " [('of', 'ADP'), (('Perestroika', 'CONJ'), ('Perestroika', 'X'))],\n",
       " [('Perestroika', 'X'), (('Touches', 'CONJ'), ('Touches', 'VERB'))],\n",
       " [('Touches', 'VERB'), (('Design', 'CONJ'), ('Design', 'NOUN'))],\n",
       " [('not', 'ADV'), (('behaving', 'CONJ'), ('behaving', 'VERB'))],\n",
       " [('the', 'DET'),\n",
       "  (('Philadelphia-based', 'CONJ'), ('Philadelphia-based', 'ADJ'))],\n",
       " [('While', 'ADP'), (('worry', 'VERB'), ('worry', 'NOUN'))],\n",
       " [(\"''\", '.'), (('evolve', 'CONJ'), ('evolve', 'VERB'))],\n",
       " [('evil', 'ADJ'), (('creature', 'CONJ'), ('creature', 'NOUN'))],\n",
       " [('is', 'VERB'), (('evoking', 'CONJ'), ('evoking', 'VERB'))],\n",
       " [('the', 'DET'), (('curses', 'CONJ'), ('curses', 'NOUN'))]]"
      ]
     },
     "execution_count": 52,
     "metadata": {},
     "output_type": "execute_result"
    }
   ],
   "source": [
    "incorrect_tagged_cases_1"
   ]
  },
  {
   "cell_type": "markdown",
   "metadata": {},
   "source": [
    "### Solve the problem of unknown words"
   ]
  },
  {
   "cell_type": "markdown",
   "metadata": {},
   "source": [
    "## Viterbi Modification Technique 1: Assign a class/Tag to unknown words based on some rule.\n",
    "\n",
    "1. We can incorporate simple rule of tagging Unknown words with the Most frequent occuring POS Tag in the corpus."
   ]
  },
  {
   "cell_type": "code",
   "execution_count": 53,
   "metadata": {},
   "outputs": [
    {
     "data": {
      "text/plain": [
       "'NOUN'"
      ]
     },
     "execution_count": 53,
     "metadata": {},
     "output_type": "execute_result"
    }
   ],
   "source": [
    "# Find most frequent Tag\n",
    "from collections import Counter\n",
    "\n",
    "tags = [pair[1] for pair in train_tagged_words]\n",
    "tag_counts = Counter(tags)\n",
    "tag_counts.most_common(1)[0][0]"
   ]
  },
  {
   "cell_type": "code",
   "execution_count": 54,
   "metadata": {},
   "outputs": [],
   "source": [
    "# Viterbi Heuristic\n",
    "def Viterbi_2(words, train_bag = train_tagged_words):\n",
    "    state = []\n",
    "    T = list(set([pair[1] for pair in train_bag]))\n",
    "    vocab = list(set([pair[0] for pair in train_bag]))\n",
    "    \n",
    "    for key, word in enumerate(words):\n",
    "        #initialise list of probability column for a given observation\n",
    "        p = []\n",
    "        if word not in vocab:\n",
    "            state.append(tag_counts.most_common(1)[0][0])\n",
    "            continue\n",
    "        for tag in T:\n",
    "            if key == 0:\n",
    "                transition_p = (tags_df.loc['.', tag])\n",
    "            else:\n",
    "                transition_p = (tags_df.loc[state[-1], tag])\n",
    "                \n",
    "            # compute emission and state probabilities\n",
    "            ## perform laplace smoothening on emission probabilities\n",
    "            \n",
    "            emission_p = (word_given_tag(words[key], tag)[0])/(word_given_tag(words[key], tag)[1]) \n",
    "            #state_probability = transition_p if emission_p==0.0 else emission_p * transition_p\n",
    "            state_probability = transition_p * emission_p\n",
    "            #print(transition_p, emission_p, state_probability)\n",
    "            p.append(state_probability)\n",
    "            \n",
    "        pmax = max(p)\n",
    "        # getting state for which probability is maximum\n",
    "        state_max = T[p.index(pmax)]\n",
    "        state.append(state_max)\n",
    "    return list(zip(words, state))\n"
   ]
  },
  {
   "cell_type": "code",
   "execution_count": 55,
   "metadata": {},
   "outputs": [],
   "source": [
    "# tagging the test sentences\n",
    "start = time.time()\n",
    "tagged_seq_2 = Viterbi_2(test_tagged_words)\n",
    "end = time.time()\n",
    "difference = end-start"
   ]
  },
  {
   "cell_type": "code",
   "execution_count": 56,
   "metadata": {
    "scrolled": false
   },
   "outputs": [
    {
     "name": "stdout",
     "output_type": "stream",
     "text": [
      "Time taken in seconds:  199.08050298690796\n"
     ]
    }
   ],
   "source": [
    "print(\"Time taken in seconds: \", difference)\n",
    "#print(tagged_seq)"
   ]
  },
  {
   "cell_type": "code",
   "execution_count": 57,
   "metadata": {},
   "outputs": [
    {
     "data": {
      "text/plain": [
       "0.9478827361563518"
      ]
     },
     "execution_count": 57,
     "metadata": {},
     "output_type": "execute_result"
    }
   ],
   "source": [
    "# accuracy\n",
    "check_2 = [i for i, j in zip(tagged_seq_2, test_run_base) if i == j] \n",
    "accuracy_2 = len(check_2)/len(tagged_seq_2)\n",
    "accuracy_2"
   ]
  },
  {
   "cell_type": "code",
   "execution_count": 58,
   "metadata": {},
   "outputs": [
    {
     "data": {
      "text/plain": [
       "[[('learned', 'VERB'), (('that', 'ADP'), ('that', 'DET'))],\n",
       " [(',', '.'), (('traced', 'NOUN'), ('traced', 'VERB'))],\n",
       " [('the', 'DET'), (('chief', 'NOUN'), ('chief', 'ADJ'))],\n",
       " [('be', 'VERB'), (('as', 'ADP'), ('as', 'ADV'))],\n",
       " [('particularly', 'ADV'), (('dusty', 'NOUN'), ('dusty', 'ADJ'))],\n",
       " [('by', 'ADP'), (('American', 'ADJ'), ('American', 'NOUN'))],\n",
       " [(\"''\", '.'), (('evolve', 'NOUN'), ('evolve', 'VERB'))],\n",
       " [('creature', 'NOUN'), (('that', 'ADP'), ('that', 'DET'))],\n",
       " [('is', 'VERB'), (('evoking', 'NOUN'), ('evoking', 'VERB'))],\n",
       " [('$', '.'), (('374.20', 'NOUN'), ('374.20', 'NUM'))],\n",
       " [(',', '.'), (('down', 'ADV'), ('down', 'ADP'))],\n",
       " [('$', '.'), (('374.20', 'NOUN'), ('374.20', 'NUM'))],\n",
       " [(',', '.'), (('down', 'ADV'), ('down', 'ADP'))],\n",
       " [('turned', 'VERB'), (('down', 'ADV'), ('down', 'PRT'))],\n",
       " [('not', 'ADV'), (('behaving', 'NOUN'), ('behaving', 'VERB'))],\n",
       " [('the', 'DET'),\n",
       "  (('Philadelphia-based', 'NOUN'), ('Philadelphia-based', 'ADJ'))],\n",
       " [('to', 'PRT'), (('combine', 'NOUN'), ('combine', 'VERB'))],\n",
       " [('``', '.'), (('melt-textured', 'NOUN'), ('melt-textured', 'ADJ'))],\n",
       " [('*', 'X'), (('earlier', 'ADV'), ('earlier', 'ADJ'))],\n",
       " [('While', 'ADP'), (('worry', 'VERB'), ('worry', 'NOUN'))],\n",
       " [('*-5', 'X'), (('mindful', 'NOUN'), ('mindful', 'ADJ'))],\n",
       " [('the', 'DET'), (('chief', 'NOUN'), ('chief', 'ADJ'))],\n",
       " [('That', 'DET'), (('sounds', 'NOUN'), ('sounds', 'VERB'))],\n",
       " [('sounds', 'VERB'), (('neat', 'NOUN'), ('neat', 'ADJ'))],\n",
       " [('--', '.'), (('propagandizes', 'NOUN'), ('propagandizes', 'VERB'))],\n",
       " [('learned', 'VERB'), (('that', 'ADP'), ('that', 'DET'))],\n",
       " [('unusually', 'ADV'), (('resilient', 'NOUN'), ('resilient', 'ADJ'))],\n",
       " [('resilient', 'ADJ'), (('once', 'ADV'), ('once', 'ADP'))],\n",
       " [('symptoms', 'NOUN'), (('that', 'ADP'), ('that', 'DET'))],\n",
       " [('show', 'VERB'), (('up', 'ADV'), ('up', 'PRT'))],\n",
       " [('American', 'ADJ'), (('depositary', 'NOUN'), ('depositary', 'ADJ'))],\n",
       " [('.', '.'), (('Preliminary', 'NOUN'), ('Preliminary', 'ADJ'))],\n",
       " [(\"'s\", 'PRT'), (('export-oriented', 'NOUN'), ('export-oriented', 'ADJ'))],\n",
       " [('of', 'ADP'), (('Perestroika', 'NOUN'), ('Perestroika', 'X'))],\n",
       " [('Perestroika', 'X'), (('Touches', 'NOUN'), ('Touches', 'VERB'))],\n",
       " [('world', 'NOUN'), (('that', 'ADP'), ('that', 'DET'))],\n",
       " [('rights', 'NOUN'), (('harms', 'NOUN'), ('harms', 'VERB'))],\n",
       " [('all', 'DET'), (('trading', 'NOUN'), ('trading', 'VERB'))],\n",
       " [('-LCB-', '.'), (('offending', 'NOUN'), ('offending', 'VERB'))],\n",
       " [('Department', 'NOUN'), (('projects', 'NOUN'), ('projects', 'VERB'))],\n",
       " [('Younkers', 'NOUN'), (('rang', 'NOUN'), ('rang', 'VERB'))],\n",
       " [('$', '.'), (('313', 'NOUN'), ('313', 'NUM'))],\n",
       " [('II', 'NOUN'), (('that', 'ADP'), ('that', 'DET'))],\n",
       " [('to', 'PRT'), (('select', 'NOUN'), ('select', 'VERB'))],\n",
       " [('the', 'DET'), (('more', 'ADJ'), ('more', 'ADV'))],\n",
       " [('attracted', 'VERB'), (('*-123', 'NOUN'), ('*-123', 'X'))],\n",
       " [('--', '.'), (('and', 'CONJ'), ('and', 'NOUN'))],\n",
       " [('be', 'VERB'), (('loyal', 'NOUN'), ('loyal', 'ADJ'))],\n",
       " [('bank', 'NOUN'), (('that', 'ADP'), ('that', 'DET'))],\n",
       " [('that', 'DET'), (('*T*-205', 'NOUN'), ('*T*-205', 'X'))],\n",
       " [('happen', 'VERB'), (('down', 'ADV'), ('down', 'ADP'))],\n",
       " [('to', 'PRT'), (('erode', 'NOUN'), ('erode', 'VERB'))],\n",
       " [('$', '.'), (('608,413', 'NOUN'), ('608,413', 'NUM'))],\n",
       " [('$', '.'), (('967,809', 'NOUN'), ('967,809', 'NUM'))],\n",
       " [(',', '.'), (('First', 'NOUN'), ('First', 'ADJ'))],\n",
       " [('to', 'PRT'), (('last', 'ADJ'), ('last', 'VERB'))],\n",
       " [('of', 'ADP'), (('Perestroika', 'NOUN'), ('Perestroika', 'X'))],\n",
       " [('Perestroika', 'X'), (('Touches', 'NOUN'), ('Touches', 'VERB'))],\n",
       " [('not', 'ADV'), (('behaving', 'NOUN'), ('behaving', 'VERB'))],\n",
       " [('the', 'DET'),\n",
       "  (('Philadelphia-based', 'NOUN'), ('Philadelphia-based', 'ADJ'))],\n",
       " [('While', 'ADP'), (('worry', 'VERB'), ('worry', 'NOUN'))],\n",
       " [(\"''\", '.'), (('evolve', 'NOUN'), ('evolve', 'VERB'))],\n",
       " [('creature', 'NOUN'), (('that', 'ADP'), ('that', 'DET'))],\n",
       " [('is', 'VERB'), (('evoking', 'NOUN'), ('evoking', 'VERB'))]]"
      ]
     },
     "execution_count": 58,
     "metadata": {},
     "output_type": "execute_result"
    }
   ],
   "source": [
    "incorrect_tagged_cases_2 = [[test_run_base[i-1],j] for i, j in enumerate(zip(tagged_seq_2, test_run_base)) if j[0]!=j[1]]\n",
    "incorrect_tagged_cases_2"
   ]
  },
  {
   "cell_type": "markdown",
   "metadata": {},
   "source": [
    "## Viterbi Modification 2. \n",
    "\n",
    "#### Modify Viterbi algo to Consider only either transition or emission probabilities for unknown words.\n",
    "\n",
    "#### For avoiding 0 probability of unknown words, we can use Laplace smoothening technique.\n",
    "\n",
    "Transition probability \n",
    "\\begin{equation*}\n",
    "P(T2|T1)   = \\frac{P(T1,T2) + 1}{len(T)}\n",
    "\\end{equation*}\n",
    "\n",
    "Emission probability \n",
    "\\begin{equation*}\n",
    "P(T|W)   = \\frac{P(B,A) + 1}{len(T)}\n",
    "\\end{equation*}"
   ]
  },
  {
   "cell_type": "code",
   "execution_count": 59,
   "metadata": {},
   "outputs": [],
   "source": [
    "# Viterbi Heuristic\n",
    "def Viterbi_3(words, train_bag = train_tagged_words):\n",
    "    state = []\n",
    "    T = list(set([pair[1] for pair in train_bag]))\n",
    "    vocab = list(set([pair[0] for pair in train_bag]))\n",
    "    \n",
    "    for key, word in enumerate(words):\n",
    "        #initialise list of probability column for a given observation\n",
    "        p = [] \n",
    "        for tag in T:\n",
    "            if key == 0:\n",
    "                transition_p = (tags_df.loc['.', tag] + 1) / len(T)\n",
    "            else:\n",
    "                transition_p = (tags_df.loc[state[-1], tag] + 1) / len(T)\n",
    "                \n",
    "            # compute emission and state probabilities\n",
    "            ## perform laplace smoothening on emission probabilities\n",
    "            \n",
    "            emission_p = (word_given_tag(words[key], tag)[0] + 1)/(word_given_tag(words[key], tag)[1] + len(vocab)) \n",
    "            #state_probability = transition_p if emission_p==0.0 else emission_p * transition_p\n",
    "            state_probability = transition_p * emission_p\n",
    "            #print(transition_p, emission_p, state_probability)\n",
    "            p.append(state_probability)\n",
    "            \n",
    "        pmax = max(p)\n",
    "        # getting state for which probability is maximum\n",
    "        state_max = T[p.index(pmax)]\n",
    "        state.append(state_max)\n",
    "    return list(zip(words, state))\n"
   ]
  },
  {
   "cell_type": "code",
   "execution_count": 60,
   "metadata": {
    "scrolled": false
   },
   "outputs": [],
   "source": [
    "# tagging the test sentences\n",
    "start = time.time()\n",
    "tagged_seq_3 = Viterbi_3(test_tagged_words)\n",
    "end = time.time()\n",
    "difference = end-start"
   ]
  },
  {
   "cell_type": "code",
   "execution_count": 61,
   "metadata": {},
   "outputs": [
    {
     "name": "stdout",
     "output_type": "stream",
     "text": [
      "Time taken in seconds:  237.42239809036255\n"
     ]
    }
   ],
   "source": [
    "print(\"Time taken in seconds: \", difference)\n",
    "#print(tagged_seq)"
   ]
  },
  {
   "cell_type": "code",
   "execution_count": 62,
   "metadata": {},
   "outputs": [
    {
     "data": {
      "text/plain": [
       "0.9071661237785016"
      ]
     },
     "execution_count": 62,
     "metadata": {},
     "output_type": "execute_result"
    }
   ],
   "source": [
    "# accuracy\n",
    "check_3 = [i for i, j in zip(tagged_seq_3, test_run_base) if i == j] \n",
    "accuracy_3 = len(check_3)/len(tagged_seq_3)\n",
    "accuracy_3"
   ]
  },
  {
   "cell_type": "code",
   "execution_count": 63,
   "metadata": {
    "scrolled": false
   },
   "outputs": [
    {
     "data": {
      "text/plain": [
       "[[('But', 'CONJ'), (('civilization', 'PRON'), ('civilization', 'NOUN'))],\n",
       " [('learned', 'VERB'), (('that', 'ADP'), ('that', 'DET'))],\n",
       " [(',', '.'), (('traced', 'CONJ'), ('traced', 'VERB'))],\n",
       " [('another', 'DET'), (('wave', 'CONJ'), ('wave', 'NOUN'))],\n",
       " [('the', 'DET'), (('chief', 'NOUN'), ('chief', 'ADJ'))],\n",
       " [('I', 'PRON'), (('like', 'ADP'), ('like', 'VERB'))],\n",
       " [('be', 'VERB'), (('as', 'ADP'), ('as', 'ADV'))],\n",
       " [('any', 'DET'), (('proposals', 'CONJ'), ('proposals', 'NOUN'))],\n",
       " [('.', '.'), (('Areas', 'CONJ'), ('Areas', 'NOUN'))],\n",
       " [('particularly', 'ADV'), (('dusty', 'ADV'), ('dusty', 'ADJ'))],\n",
       " [('with', 'ADP'),\n",
       "  (('limited-partnership', 'PRON'), ('limited-partnership', 'NOUN'))],\n",
       " [('by', 'ADP'), (('American', 'ADJ'), ('American', 'NOUN'))],\n",
       " [(\"''\", '.'), (('evolve', 'CONJ'), ('evolve', 'VERB'))],\n",
       " [('evil', 'ADJ'), (('creature', 'CONJ'), ('creature', 'NOUN'))],\n",
       " [('creature', 'NOUN'), (('that', 'ADP'), ('that', 'DET'))],\n",
       " [('is', 'VERB'), (('evoking', 'ADV'), ('evoking', 'VERB'))],\n",
       " [('the', 'DET'), (('curses', 'CONJ'), ('curses', 'NOUN'))],\n",
       " [('$', '.'), (('374.20', 'CONJ'), ('374.20', 'NUM'))],\n",
       " [(',', '.'), (('down', 'ADV'), ('down', 'ADP'))],\n",
       " [('held', 'VERB'), (('A.L.', 'ADV'), ('A.L.', 'NOUN'))],\n",
       " [('$', '.'), (('374.20', 'CONJ'), ('374.20', 'NUM'))],\n",
       " [(',', '.'), (('down', 'ADV'), ('down', 'ADP'))],\n",
       " [('Energy', 'NOUN'), (('Regulatory', 'CONJ'), ('Regulatory', 'NOUN'))],\n",
       " [('turned', 'VERB'), (('down', 'ADV'), ('down', 'PRT'))],\n",
       " [('It', 'PRON'), ((\"'s\", 'PRT'), (\"'s\", 'VERB'))],\n",
       " [('not', 'ADV'), (('behaving', 'ADV'), ('behaving', 'VERB'))],\n",
       " [('for', 'ADP'), (('Cigna', 'PRON'), ('Cigna', 'NOUN'))],\n",
       " [('the', 'DET'),\n",
       "  (('Philadelphia-based', 'CONJ'), ('Philadelphia-based', 'ADJ'))],\n",
       " [('Philadelphia-based', 'ADJ'), (('insurer', 'PRON'), ('insurer', 'NOUN'))],\n",
       " [('to', 'PRT'), (('combine', 'CONJ'), ('combine', 'VERB'))],\n",
       " [('``', '.'), (('melt-textured', 'CONJ'), ('melt-textured', 'ADJ'))],\n",
       " [('Bell', 'NOUN'), (('Laboratories', 'CONJ'), ('Laboratories', 'NOUN'))],\n",
       " [('While', 'ADP'), (('worry', 'VERB'), ('worry', 'NOUN'))],\n",
       " [('receive', 'VERB'), (('1\\\\/10th', 'ADV'), ('1\\\\/10th', 'NOUN'))],\n",
       " [('the', 'DET'), (('redemption', 'CONJ'), ('redemption', 'NOUN'))],\n",
       " [(\"'s\", 'PRT'), (('calculations', 'CONJ'), ('calculations', 'NOUN'))],\n",
       " [('free', 'ADJ'), (('trip', 'CONJ'), ('trip', 'NOUN'))],\n",
       " [(\"'s\", 'PRT'), (('principals', 'CONJ'), ('principals', 'NOUN'))],\n",
       " [('*-5', 'X'), (('mindful', 'PRT'), ('mindful', 'ADJ'))],\n",
       " [('the', 'DET'), (('chief', 'NOUN'), ('chief', 'ADJ'))],\n",
       " [('That', 'DET'), (('sounds', 'NOUN'), ('sounds', 'VERB'))],\n",
       " [('sounds', 'VERB'), (('neat', 'CONJ'), ('neat', 'ADJ'))],\n",
       " [('--', '.'), (('propagandizes', 'CONJ'), ('propagandizes', 'VERB'))],\n",
       " [('learned', 'VERB'), (('that', 'ADP'), ('that', 'DET'))],\n",
       " [('asbestos', 'NOUN'), (('fiber', 'CONJ'), ('fiber', 'NOUN'))],\n",
       " [('unusually', 'ADV'), (('resilient', 'ADV'), ('resilient', 'ADJ'))],\n",
       " [('resilient', 'ADJ'), (('once', 'ADV'), ('once', 'ADP'))],\n",
       " [('the', 'DET'), (('lungs', 'CONJ'), ('lungs', 'NOUN'))],\n",
       " [('causing', 'VERB'), (('symptoms', 'ADV'), ('symptoms', 'NOUN'))],\n",
       " [('symptoms', 'NOUN'), (('that', 'ADP'), ('that', 'DET'))],\n",
       " [('American', 'ADJ'), (('depositary', 'NOUN'), ('depositary', 'ADJ'))],\n",
       " [('.', '.'), (('Preliminary', 'CONJ'), ('Preliminary', 'ADJ'))],\n",
       " [('Preliminary', 'ADJ'), (('tallies', 'PRON'), ('tallies', 'NOUN'))],\n",
       " [('monthly', 'ADJ'), (('setback', 'CONJ'), ('setback', 'NOUN'))],\n",
       " [('a', 'DET'), (('cloud', 'CONJ'), ('cloud', 'NOUN'))],\n",
       " [(\"'s\", 'PRT'), (('export-oriented', 'CONJ'), ('export-oriented', 'ADJ'))],\n",
       " [('.', '.'), (('Spirit', 'CONJ'), ('Spirit', 'NOUN'))],\n",
       " [('of', 'ADP'), (('Perestroika', 'PRON'), ('Perestroika', 'X'))],\n",
       " [('Perestroika', 'X'), (('Touches', 'CONJ'), ('Touches', 'VERB'))],\n",
       " [('Touches', 'VERB'), (('Design', 'PRON'), ('Design', 'NOUN'))],\n",
       " [('growing', 'VERB'), (('realization', 'ADV'), ('realization', 'NOUN'))],\n",
       " [('world', 'NOUN'), (('that', 'ADP'), ('that', 'DET'))],\n",
       " [('that', 'DET'), (('denial', 'PRON'), ('denial', 'NOUN'))],\n",
       " [('rights', 'NOUN'), (('harms', 'CONJ'), ('harms', 'VERB'))],\n",
       " [('all', 'DET'), (('trading', 'NOUN'), ('trading', 'VERB'))],\n",
       " [('``', '.'), (('creativity', 'CONJ'), ('creativity', 'NOUN'))],\n",
       " [('and', 'CONJ'), (('inventiveness', 'PRON'), ('inventiveness', 'NOUN'))],\n",
       " [('-LCB-', '.'), (('offending', 'CONJ'), ('offending', 'VERB'))],\n",
       " [('own', 'ADJ'), (('citizens', 'CONJ'), ('citizens', 'NOUN'))],\n",
       " [(\"''\", '.'), (('INGERSOLL-RAND', 'CONJ'), ('INGERSOLL-RAND', 'NOUN'))],\n",
       " [('-LRB-', '.'), (('Woodcliff', 'CONJ'), ('Woodcliff', 'NOUN'))],\n",
       " [('--', '.'), (('Pierre', 'CONJ'), ('Pierre', 'NOUN'))],\n",
       " [('Pierre', 'NOUN'), (('Vinken', 'PRON'), ('Vinken', 'NOUN'))],\n",
       " [('Department', 'NOUN'), (('projects', 'NOUN'), ('projects', 'VERB'))],\n",
       " [('nearly', 'ADV'), (('one-fifth', 'ADV'), ('one-fifth', 'NOUN'))],\n",
       " [('in', 'ADP'), (('storage', 'PRON'), ('storage', 'NOUN'))],\n",
       " [('in', 'ADP'), (('rankings', 'PRON'), ('rankings', 'NOUN'))],\n",
       " [('Younkers', 'NOUN'), (('rang', 'CONJ'), ('rang', 'VERB'))],\n",
       " [('$', '.'), (('313', 'CONJ'), ('313', 'NUM'))],\n",
       " [('II', 'NOUN'), (('that', 'ADP'), ('that', 'DET'))],\n",
       " [('make', 'VERB'), (('recommendations', 'ADV'), ('recommendations', 'NOUN'))],\n",
       " [('the', 'DET'), (('discretion', 'CONJ'), ('discretion', 'NOUN'))],\n",
       " [('to', 'PRT'), (('select', 'CONJ'), ('select', 'VERB'))],\n",
       " [('the', 'DET'), (('more', 'ADJ'), ('more', 'ADV'))],\n",
       " [('attracted', 'VERB'), (('*-123', 'ADV'), ('*-123', 'X'))],\n",
       " [('--', '.'), (('and', 'CONJ'), ('and', 'NOUN'))],\n",
       " [('be', 'VERB'), (('loyal', 'ADV'), ('loyal', 'ADJ'))],\n",
       " [('bank', 'NOUN'), (('that', 'ADP'), ('that', 'DET'))],\n",
       " [('that', 'DET'), (('*T*-205', 'PRON'), ('*T*-205', 'X'))],\n",
       " [('happen', 'VERB'), (('down', 'ADV'), ('down', 'ADP'))],\n",
       " [('to', 'PRT'), (('erode', 'CONJ'), ('erode', 'VERB'))],\n",
       " [('$', '.'), (('608,413', 'CONJ'), ('608,413', 'NUM'))],\n",
       " [('$', '.'), (('967,809', 'CONJ'), ('967,809', 'NUM'))],\n",
       " [(',', '.'), (('First', 'NOUN'), ('First', 'ADJ'))],\n",
       " [('its', 'PRON'), (('Crown', 'CONJ'), ('Crown', 'NOUN'))],\n",
       " [('Crown', 'NOUN'), (('Account', 'PRON'), ('Account', 'NOUN'))],\n",
       " [('Ms.', 'NOUN'), (('Driskill', 'CONJ'), ('Driskill', 'NOUN'))],\n",
       " [('to', 'PRT'), (('last', 'ADJ'), ('last', 'VERB'))],\n",
       " [('.', '.'), (('Spirit', 'CONJ'), ('Spirit', 'NOUN'))],\n",
       " [('of', 'ADP'), (('Perestroika', 'PRON'), ('Perestroika', 'X'))],\n",
       " [('Perestroika', 'X'), (('Touches', 'CONJ'), ('Touches', 'VERB'))],\n",
       " [('Touches', 'VERB'), (('Design', 'PRON'), ('Design', 'NOUN'))],\n",
       " [('It', 'PRON'), ((\"'s\", 'PRT'), (\"'s\", 'VERB'))],\n",
       " [('not', 'ADV'), (('behaving', 'ADV'), ('behaving', 'VERB'))],\n",
       " [('for', 'ADP'), (('Cigna', 'PRON'), ('Cigna', 'NOUN'))],\n",
       " [('the', 'DET'),\n",
       "  (('Philadelphia-based', 'CONJ'), ('Philadelphia-based', 'ADJ'))],\n",
       " [('Philadelphia-based', 'ADJ'), (('insurer', 'PRON'), ('insurer', 'NOUN'))],\n",
       " [('.', '.'), (('Western', 'ADJ'), ('Western', 'NOUN'))],\n",
       " [('While', 'ADP'), (('worry', 'VERB'), ('worry', 'NOUN'))],\n",
       " [(\"''\", '.'), (('evolve', 'CONJ'), ('evolve', 'VERB'))],\n",
       " [('evil', 'ADJ'), (('creature', 'CONJ'), ('creature', 'NOUN'))],\n",
       " [('creature', 'NOUN'), (('that', 'ADP'), ('that', 'DET'))],\n",
       " [('is', 'VERB'), (('evoking', 'ADV'), ('evoking', 'VERB'))],\n",
       " [('the', 'DET'), (('curses', 'CONJ'), ('curses', 'NOUN'))]]"
      ]
     },
     "execution_count": 63,
     "metadata": {},
     "output_type": "execute_result"
    }
   ],
   "source": [
    "incorrect_tagged_cases_3 = [[test_run_base[i-1],j] for i, j in enumerate(zip(tagged_seq_3, test_run_base)) if j[0]!=j[1]]\n",
    "incorrect_tagged_cases_3"
   ]
  },
  {
   "cell_type": "markdown",
   "metadata": {},
   "source": [
    "### Lets combine both the approaches and see the combined results:"
   ]
  },
  {
   "cell_type": "code",
   "execution_count": 64,
   "metadata": {},
   "outputs": [
    {
     "data": {
      "text/plain": [
       "'NOUN'"
      ]
     },
     "execution_count": 64,
     "metadata": {},
     "output_type": "execute_result"
    }
   ],
   "source": [
    "# Find most frequent Tag\n",
    "from collections import Counter\n",
    "\n",
    "tags = [pair[1] for pair in train_tagged_words]\n",
    "tag_counts = Counter(tags)\n",
    "tag_counts.most_common(1)[0][0]"
   ]
  },
  {
   "cell_type": "code",
   "execution_count": 65,
   "metadata": {},
   "outputs": [],
   "source": [
    "# Viterbi Heuristic\n",
    "def Viterbi_4(words, train_bag = train_tagged_words):\n",
    "    state = []\n",
    "    T = list(set([pair[1] for pair in train_bag]))\n",
    "    vocab = list(set([pair[0] for pair in train_bag]))\n",
    "    \n",
    "    for key, word in enumerate(words):\n",
    "        #initialise list of probability column for a given observation\n",
    "        p = []\n",
    "        if word not in vocab:\n",
    "            state.append(tag_counts.most_common(1)[0][0])\n",
    "            continue\n",
    "        for tag in T:\n",
    "            if key == 0:\n",
    "                transition_p = (tags_df.loc['.', tag] + 1) / len(T)\n",
    "            else:\n",
    "                transition_p = (tags_df.loc[state[-1], tag] + 1) / len(T)\n",
    "                \n",
    "            # compute emission and state probabilities\n",
    "            ## perform laplace smoothening on emission probabilities\n",
    "            \n",
    "            emission_p = (word_given_tag(words[key], tag)[0] + 1)/(word_given_tag(words[key], tag)[1] + len(vocab)) \n",
    "            #state_probability = transition_p if emission_p==0.0 else emission_p * transition_p\n",
    "            state_probability = transition_p * emission_p\n",
    "            #print(transition_p, emission_p, state_probability)\n",
    "            p.append(state_probability)\n",
    "            \n",
    "        pmax = max(p)\n",
    "        # getting state for which probability is maximum\n",
    "        state_max = T[p.index(pmax)]\n",
    "        state.append(state_max)\n",
    "    return list(zip(words, state))\n"
   ]
  },
  {
   "cell_type": "code",
   "execution_count": 66,
   "metadata": {},
   "outputs": [],
   "source": [
    "# tagging the test sentences\n",
    "start = time.time()\n",
    "tagged_seq_4 = Viterbi_4(test_tagged_words)\n",
    "end = time.time()\n",
    "difference = end-start"
   ]
  },
  {
   "cell_type": "code",
   "execution_count": 67,
   "metadata": {},
   "outputs": [
    {
     "name": "stdout",
     "output_type": "stream",
     "text": [
      "Time taken in seconds:  218.10019516944885\n"
     ]
    }
   ],
   "source": [
    "print(\"Time taken in seconds: \", difference)\n",
    "#print(tagged_seq)"
   ]
  },
  {
   "cell_type": "code",
   "execution_count": 68,
   "metadata": {},
   "outputs": [
    {
     "data": {
      "text/plain": [
       "0.9332247557003257"
      ]
     },
     "execution_count": 68,
     "metadata": {},
     "output_type": "execute_result"
    }
   ],
   "source": [
    "# accuracy\n",
    "check_4 = [i for i, j in zip(tagged_seq_4, test_run_base) if i == j] \n",
    "accuracy_4 = len(check_4)/len(tagged_seq_4)\n",
    "accuracy_4"
   ]
  },
  {
   "cell_type": "code",
   "execution_count": 69,
   "metadata": {},
   "outputs": [
    {
     "data": {
      "text/plain": [
       "[[('learned', 'VERB'), (('that', 'ADP'), ('that', 'DET'))],\n",
       " [(',', '.'), (('traced', 'NOUN'), ('traced', 'VERB'))],\n",
       " [('the', 'DET'), (('chief', 'NOUN'), ('chief', 'ADJ'))],\n",
       " [('I', 'PRON'), (('like', 'ADP'), ('like', 'VERB'))],\n",
       " [('be', 'VERB'), (('as', 'ADP'), ('as', 'ADV'))],\n",
       " [('particularly', 'ADV'), (('dusty', 'NOUN'), ('dusty', 'ADJ'))],\n",
       " [('with', 'ADP'),\n",
       "  (('limited-partnership', 'PRON'), ('limited-partnership', 'NOUN'))],\n",
       " [('by', 'ADP'), (('American', 'ADJ'), ('American', 'NOUN'))],\n",
       " [(\"''\", '.'), (('evolve', 'NOUN'), ('evolve', 'VERB'))],\n",
       " [('creature', 'NOUN'), (('that', 'ADP'), ('that', 'DET'))],\n",
       " [('is', 'VERB'), (('evoking', 'NOUN'), ('evoking', 'VERB'))],\n",
       " [('$', '.'), (('374.20', 'NOUN'), ('374.20', 'NUM'))],\n",
       " [(',', '.'), (('down', 'ADV'), ('down', 'ADP'))],\n",
       " [('held', 'VERB'), (('A.L.', 'ADV'), ('A.L.', 'NOUN'))],\n",
       " [('$', '.'), (('374.20', 'NOUN'), ('374.20', 'NUM'))],\n",
       " [(',', '.'), (('down', 'ADV'), ('down', 'ADP'))],\n",
       " [('turned', 'VERB'), (('down', 'ADV'), ('down', 'PRT'))],\n",
       " [('It', 'PRON'), ((\"'s\", 'PRT'), (\"'s\", 'VERB'))],\n",
       " [('not', 'ADV'), (('behaving', 'NOUN'), ('behaving', 'VERB'))],\n",
       " [('for', 'ADP'), (('Cigna', 'PRON'), ('Cigna', 'NOUN'))],\n",
       " [('the', 'DET'),\n",
       "  (('Philadelphia-based', 'NOUN'), ('Philadelphia-based', 'ADJ'))],\n",
       " [('Philadelphia-based', 'ADJ'), (('insurer', 'CONJ'), ('insurer', 'NOUN'))],\n",
       " [('to', 'PRT'), (('combine', 'NOUN'), ('combine', 'VERB'))],\n",
       " [('``', '.'), (('melt-textured', 'NOUN'), ('melt-textured', 'ADJ'))],\n",
       " [('Bell', 'NOUN'), (('Laboratories', 'CONJ'), ('Laboratories', 'NOUN'))],\n",
       " [('While', 'ADP'), (('worry', 'VERB'), ('worry', 'NOUN'))],\n",
       " [(\"'s\", 'PRT'), (('principals', 'CONJ'), ('principals', 'NOUN'))],\n",
       " [('*-5', 'X'), (('mindful', 'NOUN'), ('mindful', 'ADJ'))],\n",
       " [('the', 'DET'), (('chief', 'NOUN'), ('chief', 'ADJ'))],\n",
       " [('That', 'DET'), (('sounds', 'NOUN'), ('sounds', 'VERB'))],\n",
       " [('sounds', 'VERB'), (('neat', 'NOUN'), ('neat', 'ADJ'))],\n",
       " [('--', '.'), (('propagandizes', 'NOUN'), ('propagandizes', 'VERB'))],\n",
       " [('learned', 'VERB'), (('that', 'ADP'), ('that', 'DET'))],\n",
       " [('unusually', 'ADV'), (('resilient', 'NOUN'), ('resilient', 'ADJ'))],\n",
       " [('resilient', 'ADJ'), (('once', 'ADV'), ('once', 'ADP'))],\n",
       " [('symptoms', 'NOUN'), (('that', 'ADP'), ('that', 'DET'))],\n",
       " [('American', 'ADJ'), (('depositary', 'NOUN'), ('depositary', 'ADJ'))],\n",
       " [('.', '.'), (('Preliminary', 'NOUN'), ('Preliminary', 'ADJ'))],\n",
       " [(\"'s\", 'PRT'), (('export-oriented', 'NOUN'), ('export-oriented', 'ADJ'))],\n",
       " [('of', 'ADP'), (('Perestroika', 'NOUN'), ('Perestroika', 'X'))],\n",
       " [('Perestroika', 'X'), (('Touches', 'NOUN'), ('Touches', 'VERB'))],\n",
       " [('growing', 'VERB'), (('realization', 'ADV'), ('realization', 'NOUN'))],\n",
       " [('world', 'NOUN'), (('that', 'ADP'), ('that', 'DET'))],\n",
       " [('rights', 'NOUN'), (('harms', 'NOUN'), ('harms', 'VERB'))],\n",
       " [('all', 'DET'), (('trading', 'NOUN'), ('trading', 'VERB'))],\n",
       " [('``', '.'), (('creativity', 'CONJ'), ('creativity', 'NOUN'))],\n",
       " [('-LCB-', '.'), (('offending', 'NOUN'), ('offending', 'VERB'))],\n",
       " [('Pierre', 'NOUN'), (('Vinken', 'CONJ'), ('Vinken', 'NOUN'))],\n",
       " [('Department', 'NOUN'), (('projects', 'NOUN'), ('projects', 'VERB'))],\n",
       " [('in', 'ADP'), (('storage', 'PRON'), ('storage', 'NOUN'))],\n",
       " [('Younkers', 'NOUN'), (('rang', 'NOUN'), ('rang', 'VERB'))],\n",
       " [('$', '.'), (('313', 'NOUN'), ('313', 'NUM'))],\n",
       " [('II', 'NOUN'), (('that', 'ADP'), ('that', 'DET'))],\n",
       " [('make', 'VERB'), (('recommendations', 'ADV'), ('recommendations', 'NOUN'))],\n",
       " [('to', 'PRT'), (('select', 'NOUN'), ('select', 'VERB'))],\n",
       " [('the', 'DET'), (('more', 'ADJ'), ('more', 'ADV'))],\n",
       " [('attracted', 'VERB'), (('*-123', 'NOUN'), ('*-123', 'X'))],\n",
       " [('--', '.'), (('and', 'CONJ'), ('and', 'NOUN'))],\n",
       " [('be', 'VERB'), (('loyal', 'NOUN'), ('loyal', 'ADJ'))],\n",
       " [('bank', 'NOUN'), (('that', 'ADP'), ('that', 'DET'))],\n",
       " [('that', 'DET'), (('*T*-205', 'NOUN'), ('*T*-205', 'X'))],\n",
       " [('happen', 'VERB'), (('down', 'ADV'), ('down', 'ADP'))],\n",
       " [('to', 'PRT'), (('erode', 'NOUN'), ('erode', 'VERB'))],\n",
       " [('$', '.'), (('608,413', 'NOUN'), ('608,413', 'NUM'))],\n",
       " [('$', '.'), (('967,809', 'NOUN'), ('967,809', 'NUM'))],\n",
       " [(',', '.'), (('First', 'NOUN'), ('First', 'ADJ'))],\n",
       " [('its', 'PRON'), (('Crown', 'CONJ'), ('Crown', 'NOUN'))],\n",
       " [('Crown', 'NOUN'), (('Account', 'PRON'), ('Account', 'NOUN'))],\n",
       " [('Ms.', 'NOUN'), (('Driskill', 'CONJ'), ('Driskill', 'NOUN'))],\n",
       " [('to', 'PRT'), (('last', 'ADJ'), ('last', 'VERB'))],\n",
       " [('of', 'ADP'), (('Perestroika', 'NOUN'), ('Perestroika', 'X'))],\n",
       " [('Perestroika', 'X'), (('Touches', 'NOUN'), ('Touches', 'VERB'))],\n",
       " [('It', 'PRON'), ((\"'s\", 'PRT'), (\"'s\", 'VERB'))],\n",
       " [('not', 'ADV'), (('behaving', 'NOUN'), ('behaving', 'VERB'))],\n",
       " [('for', 'ADP'), (('Cigna', 'PRON'), ('Cigna', 'NOUN'))],\n",
       " [('the', 'DET'),\n",
       "  (('Philadelphia-based', 'NOUN'), ('Philadelphia-based', 'ADJ'))],\n",
       " [('Philadelphia-based', 'ADJ'), (('insurer', 'CONJ'), ('insurer', 'NOUN'))],\n",
       " [('.', '.'), (('Western', 'ADJ'), ('Western', 'NOUN'))],\n",
       " [('While', 'ADP'), (('worry', 'VERB'), ('worry', 'NOUN'))],\n",
       " [(\"''\", '.'), (('evolve', 'NOUN'), ('evolve', 'VERB'))],\n",
       " [('creature', 'NOUN'), (('that', 'ADP'), ('that', 'DET'))],\n",
       " [('is', 'VERB'), (('evoking', 'NOUN'), ('evoking', 'VERB'))]]"
      ]
     },
     "execution_count": 69,
     "metadata": {},
     "output_type": "execute_result"
    }
   ],
   "source": [
    "incorrect_tagged_cases_4 = [[test_run_base[i-1],j] for i, j in enumerate(zip(tagged_seq_4, test_run_base)) if j[0]!=j[1]]\n",
    "incorrect_tagged_cases_4"
   ]
  },
  {
   "cell_type": "markdown",
   "metadata": {},
   "source": [
    "## Let's compare results of all modifications in terms of accuracy"
   ]
  },
  {
   "cell_type": "raw",
   "metadata": {},
   "source": [
    "\n",
    "\n",
    "+----------+---------------+-----------------------------+-------------------------------------+-----------------+\n",
    "| Model    | Plain Viterbi | Viterbi with unknown words  | Viterbi with Laplace transformation | Combined Result |\n",
    "|          |               | with Most frequent POS Tag  | on Emission/Transition prob         |                 |\n",
    "+----------+---------------+-----------------------------+-------------------------------------+-----------------+\n",
    "| Accuracy | 92.34         | 94.78                       | 90.71                               | 93.32           |\n",
    "+----------+---------------+-----------------------------+-------------------------------------+-----------------+"
   ]
  },
  {
   "cell_type": "markdown",
   "metadata": {},
   "source": [
    "### List down cases which were incorrectly tagged by original POS tagger and got corrected by your modifications"
   ]
  },
  {
   "cell_type": "code",
   "execution_count": 92,
   "metadata": {},
   "outputs": [
    {
     "data": {
      "text/plain": [
       "[('But', 'CONJ'), (('civilization', 'CONJ'), ('civilization', 'NOUN'))]"
      ]
     },
     "execution_count": 92,
     "metadata": {},
     "output_type": "execute_result"
    }
   ],
   "source": [
    "## Lets check the incorrectly Tagged words by Vanilla viterbi model\n",
    "incorrect_tagged_cases_1[0]"
   ]
  },
  {
   "cell_type": "code",
   "execution_count": 93,
   "metadata": {},
   "outputs": [
    {
     "data": {
      "text/plain": [
       "[('But', 'CONJ'),\n",
       " ('civilization', 'NOUN'),\n",
       " ('has', 'VERB'),\n",
       " ('moved', 'VERB'),\n",
       " ('forward', 'ADV')]"
      ]
     },
     "execution_count": 93,
     "metadata": {},
     "output_type": "execute_result"
    }
   ],
   "source": [
    "## The same is now tagged correctly with the 4th model.\n",
    "## Les's check them in the correctly tagged sentences of model 4\n",
    "check_4[:5]"
   ]
  },
  {
   "cell_type": "markdown",
   "metadata": {},
   "source": [
    "### Let's now run our final model with the sample data provided\n"
   ]
  },
  {
   "cell_type": "code",
   "execution_count": 99,
   "metadata": {},
   "outputs": [
    {
     "name": "stdout",
     "output_type": "stream",
     "text": [
      "[('Android', 'NOUN'), ('is', 'VERB'), ('a', 'DET'), ('mobile', 'ADJ'), ('operating', 'NOUN'), ('system', 'NOUN'), ('developed', 'VERB'), ('by', 'ADP'), ('Google', 'NOUN'), ('.', '.')]\n",
      "[('Android', 'NOUN'), ('has', 'VERB'), ('been', 'VERB'), ('the', 'DET'), ('best-selling', 'ADJ'), ('OS', 'NOUN'), ('worldwide', 'NOUN'), ('on', 'ADP'), ('smartphones', 'NOUN'), ('since', 'ADP'), ('2011', 'NOUN'), ('and', 'CONJ'), ('on', 'ADP'), ('tablets', 'PRON'), ('since', 'ADP'), ('2013', 'NOUN'), ('.', '.')]\n",
      "[('Google', 'NOUN'), ('and', 'CONJ'), ('Twitter', 'NOUN'), ('made', 'VERB'), ('a', 'DET'), ('deal', 'NOUN'), ('in', 'ADP'), ('2015', 'NOUN'), ('that', 'ADP'), ('gave', 'VERB'), ('Google', 'NOUN'), ('access', 'NOUN'), ('to', 'PRT'), ('Twitter', 'NOUN'), (\"'s\", 'PRT'), ('firehose', 'NOUN'), ('.', '.')]\n",
      "[('Twitter', 'NOUN'), ('is', 'VERB'), ('an', 'DET'), ('online', 'NOUN'), ('news', 'NOUN'), ('and', 'CONJ'), ('social', 'ADJ'), ('networking', 'NOUN'), ('service', 'NOUN'), ('on', 'ADP'), ('which', 'DET'), ('users', 'NOUN'), ('post', 'NOUN'), ('and', 'CONJ'), ('interact', 'NOUN'), ('with', 'ADP'), ('messages', 'NOUN'), ('known', 'VERB'), ('as', 'ADP'), ('tweets', 'NOUN'), ('.', '.')]\n",
      "[('Before', 'ADP'), ('entering', 'VERB'), ('politics', 'NOUN'), (',', '.'), ('Donald', 'NOUN'), ('Trump', 'CONJ'), ('was', 'VERB'), ('a', 'DET'), ('domineering', 'NOUN'), ('businessman', 'NOUN'), ('and', 'CONJ'), ('a', 'DET'), ('television', 'NOUN'), ('personality', 'NOUN'), ('.', '.')]\n",
      "[('The', 'DET'), ('2018', 'NOUN'), ('FIFA', 'NOUN'), ('World', 'NOUN'), ('Cup', 'NOUN'), ('is', 'VERB'), ('the', 'DET'), ('21st', 'NOUN'), ('FIFA', 'NOUN'), ('World', 'NOUN'), ('Cup', 'NOUN'), (',', '.'), ('an', 'DET'), ('international', 'ADJ'), ('football', 'NOUN'), ('tournament', 'NOUN'), ('contested', 'NOUN'), ('once', 'ADV'), ('every', 'DET'), ('four', 'NUM'), ('years', 'NOUN'), ('.', '.')]\n",
      "[('This', 'DET'), ('is', 'VERB'), ('the', 'DET'), ('first', 'ADJ'), ('World', 'NOUN'), ('Cup', 'NOUN'), ('to', 'PRT'), ('be', 'VERB'), ('held', 'VERB'), ('in', 'ADP'), ('Eastern', 'NOUN'), ('Europe', 'NOUN'), ('and', 'CONJ'), ('the', 'DET'), ('11th', 'ADJ'), ('time', 'NOUN'), ('that', 'ADP'), ('it', 'PRON'), ('has', 'VERB'), ('been', 'VERB'), ('held', 'VERB'), ('in', 'ADP'), ('Europe', 'NOUN'), ('.', '.')]\n",
      "[('Show', 'CONJ'), ('me', 'PRON'), ('the', 'DET'), ('cheapest', 'ADJ'), ('round', 'NOUN'), ('trips', 'NOUN'), ('from', 'ADP'), ('Dallas', 'NOUN'), ('to', 'PRT'), ('Atlanta', 'NOUN')]\n",
      "[('I', 'PRON'), ('would', 'VERB'), ('like', 'ADP'), ('to', 'PRT'), ('see', 'VERB'), ('flights', 'NOUN'), ('from', 'ADP'), ('Denver', 'PRON'), ('to', 'PRT'), ('Philadelphia', 'NOUN'), ('.', '.')]\n",
      "[('Show', 'CONJ'), ('me', 'PRON'), ('the', 'DET'), ('price', 'NOUN'), ('of', 'ADP'), ('the', 'DET'), ('flights', 'NOUN'), ('leaving', 'VERB'), ('Atlanta', 'NOUN'), ('at', 'ADP'), ('about', 'ADP'), ('3', 'NUM'), ('in', 'ADP'), ('the', 'DET'), ('afternoon', 'NOUN'), ('and', 'CONJ'), ('arriving', 'NOUN'), ('in', 'ADP'), ('San', 'NOUN'), ('Francisco', 'NOUN'), ('.', '.')]\n",
      "[('NASA', 'NOUN'), ('invited', 'NOUN'), ('social', 'ADJ'), ('media', 'NOUN'), ('users', 'NOUN'), ('to', 'PRT'), ('experience', 'NOUN'), ('the', 'DET'), ('launch', 'NOUN'), ('of', 'ADP'), ('ICESAT-2', 'NOUN'), ('Satellite', 'NOUN'), ('.', '.')]\n"
     ]
    }
   ],
   "source": [
    "from nltk.tokenize import word_tokenize\n",
    "\n",
    "fname = \"Test_sentences.txt\"\n",
    "\n",
    "with open(fname) as f:\n",
    "    content = f.readlines()\n",
    "    for sent in content:\n",
    "        words = word_tokenize(sent)\n",
    "        tagged_seq = Viterbi_4(words)\n",
    "        print(tagged_seq)"
   ]
  },
  {
   "cell_type": "code",
   "execution_count": null,
   "metadata": {},
   "outputs": [],
   "source": []
  }
 ],
 "metadata": {
  "kernelspec": {
   "display_name": "Python 3",
   "language": "python",
   "name": "python3"
  },
  "language_info": {
   "codemirror_mode": {
    "name": "ipython",
    "version": 3
   },
   "file_extension": ".py",
   "mimetype": "text/x-python",
   "name": "python",
   "nbconvert_exporter": "python",
   "pygments_lexer": "ipython3",
   "version": "3.7.0"
  }
 },
 "nbformat": 4,
 "nbformat_minor": 2
}
