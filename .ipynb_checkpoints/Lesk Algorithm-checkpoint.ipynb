{
 "cells": [
  {
   "cell_type": "markdown",
   "metadata": {},
   "source": [
    "## Lesk Algorithm\n",
    "\n",
    "#### Implementation of Lesk Algorithm for Word Sense Disambiguation.\n",
    "\n",
    "Word Sense Disambiguation (WSD) solves the ambiguity which arises due to different meaning of words in different context.\n",
    "\n",
    "There are different approches to get the most appropriate sense of a word. One of them is the Lesk Algorithm.\n",
    "\n",
    "Given a word in a context and different senses, we have to find the most appropriate Sense in which the word is used."
   ]
  },
  {
   "cell_type": "code",
   "execution_count": 1,
   "metadata": {},
   "outputs": [],
   "source": [
    "import nltk\n",
    "from nltk.corpus import wordnet\n",
    "from nltk.corpus import stopwords"
   ]
  },
  {
   "cell_type": "code",
   "execution_count": 20,
   "metadata": {},
   "outputs": [
    {
     "data": {
      "text/plain": [
       "['I', 'went', 'bank', 'deposit', 'money']"
      ]
     },
     "execution_count": 20,
     "metadata": {},
     "output_type": "execute_result"
    }
   ],
   "source": [
    "sentence = \"I went to the bank to deposit money\"\n",
    "word = 'bank'  #the ambiguous word\n",
    "\n",
    "## Tokenize given sentence\n",
    "word_tokens = nltk.word_tokenize(sentence)\n",
    "\n",
    "## Remove stop words from the word_tokens\n",
    "stop_words = stopwords.words('english')\n",
    "\n",
    "filtered_words = [word for word in word_tokens if word not in stop_words]\n",
    "filtered_words"
   ]
  },
  {
   "cell_type": "markdown",
   "metadata": {},
   "source": [
    "## Wordnet is the lexical database for getting lexical information about the given word or phrase.\n",
    "https://wordnet.princeton.edu/\n",
    "\n",
    "We can get the following information from WordNet:-\n",
    "- Synonyms: Words with similar meaning\n",
    "- Hypernyms: Generic term for a specific class of object.\n",
    "- Hyponyms: Member of a class term.\n",
    "- Holonyms: Name of whole for which other are parts.\n",
    "- Meronyms: Parts of holonyms"
   ]
  },
  {
   "cell_type": "code",
   "execution_count": 21,
   "metadata": {},
   "outputs": [
    {
     "name": "stdout",
     "output_type": "stream",
     "text": [
      "Synset('bank.n.01') sloping land (especially the slope beside a body of water)\n",
      "Synset('depository_financial_institution.n.01') a financial institution that accepts deposits and channels the money into lending activities\n",
      "Synset('bank.n.03') a long ridge or pile\n",
      "Synset('bank.n.04') an arrangement of similar objects in a row or in tiers\n",
      "Synset('bank.n.05') a supply or stock held in reserve for future use (especially in emergencies)\n",
      "Synset('bank.n.06') the funds held by a gambling house or the dealer in some gambling games\n",
      "Synset('bank.n.07') a slope in the turn of a road or track; the outside is higher than the inside in order to reduce the effects of centrifugal force\n",
      "Synset('savings_bank.n.02') a container (usually with a slot in the top) for keeping money at home\n",
      "Synset('bank.n.09') a building in which the business of banking transacted\n",
      "Synset('bank.n.10') a flight maneuver; aircraft tips laterally about its longitudinal axis (especially in turning)\n",
      "Synset('bank.v.01') tip laterally\n",
      "Synset('bank.v.02') enclose with a bank\n",
      "Synset('bank.v.03') do business with a bank or keep an account at a bank\n",
      "Synset('bank.v.04') act as the banker in a game or in gambling\n",
      "Synset('bank.v.05') be in the banking business\n",
      "Synset('deposit.v.02') put into a bank account\n",
      "Synset('bank.v.07') cover with ashes so to control the rate of burning\n",
      "Synset('trust.v.01') have confidence or faith in\n"
     ]
    }
   ],
   "source": [
    "# Synset: a set of synonyms that share a common meaning.\n",
    "# Let's find the synonym for the given word\n",
    "for sense in wordnet.synsets(word):\n",
    "    print(sense, sense.definition())"
   ]
  },
  {
   "cell_type": "markdown",
   "metadata": {},
   "source": [
    "### We can see that word Bank has been used in the above Senses in the database. Now we have to find the most appropriate Sense for the word bank.\n",
    "\n",
    "We can do so by finding the Max distance between tokens from our example and word tokens from the Definitions we have got from WordNet database."
   ]
  },
  {
   "cell_type": "code",
   "execution_count": 22,
   "metadata": {},
   "outputs": [
    {
     "name": "stdout",
     "output_type": "stream",
     "text": [
      "tokenized original sentence -                ['I', 'went', 'bank', 'deposit', 'money']\n",
      "tokenized definition of the sense \"trust\" -  {'faith', 'in', 'or', 'confidence', 'have'}\n",
      "0\n"
     ]
    }
   ],
   "source": [
    "print('tokenized original sentence -               ', filtered_words)\n",
    "tokenized_trust = set(nltk.word_tokenize(sense.definition()))\n",
    "print('tokenized definition of the sense \"trust\" - ', tokenized_trust)\n",
    "\n",
    "common_words = tokenized_trust.intersection(filtered_words) \n",
    "print(len(common_words))\n"
   ]
  },
  {
   "cell_type": "markdown",
   "metadata": {},
   "source": [
    "### We can see that from above example that there is nothing common with the given sentence and the Sense we have got from Wordnet. Lets run this for all the Word senses we have got from WordNet and find the Max value Sense."
   ]
  },
  {
   "cell_type": "code",
   "execution_count": 23,
   "metadata": {},
   "outputs": [],
   "source": [
    "max_overlap = 0 \n",
    "best_sense = None \n",
    "\n",
    "for sense in wordnet.synsets(word):\n",
    "    tokenized_sense = set(nltk.word_tokenize(sense.definition()))\n",
    "    common_words = tokenized_sense.intersection(filtered_words)\n",
    "    overlap = len(common_words)\n",
    "    \n",
    "    if overlap > max_overlap: \n",
    "        max_overlap = overlap\n",
    "        best_sense = sense"
   ]
  },
  {
   "cell_type": "code",
   "execution_count": 24,
   "metadata": {},
   "outputs": [
    {
     "name": "stdout",
     "output_type": "stream",
     "text": [
      "a financial institution that accepts deposits and channels the money into lending activities\n",
      "1\n"
     ]
    }
   ],
   "source": [
    "#So, the best sense of the word 'bank' is \n",
    "print(best_sense.definition())\n",
    "print(max_overlap)"
   ]
  },
  {
   "cell_type": "markdown",
   "metadata": {},
   "source": [
    "## We can also use the NLTK implementation of Lesk for the same."
   ]
  },
  {
   "cell_type": "code",
   "execution_count": 25,
   "metadata": {},
   "outputs": [],
   "source": [
    "from nltk.wsd import lesk"
   ]
  },
  {
   "cell_type": "code",
   "execution_count": 27,
   "metadata": {},
   "outputs": [
    {
     "name": "stdout",
     "output_type": "stream",
     "text": [
      "Synset('bank.n.01') sloping land (especially the slope beside a body of water)\n",
      "Synset('depository_financial_institution.n.01') a financial institution that accepts deposits and channels the money into lending activities\n",
      "Synset('bank.n.03') a long ridge or pile\n",
      "Synset('bank.n.04') an arrangement of similar objects in a row or in tiers\n",
      "Synset('bank.n.05') a supply or stock held in reserve for future use (especially in emergencies)\n",
      "Synset('bank.n.06') the funds held by a gambling house or the dealer in some gambling games\n",
      "Synset('bank.n.07') a slope in the turn of a road or track; the outside is higher than the inside in order to reduce the effects of centrifugal force\n",
      "Synset('savings_bank.n.02') a container (usually with a slot in the top) for keeping money at home\n",
      "Synset('bank.n.09') a building in which the business of banking transacted\n",
      "Synset('bank.n.10') a flight maneuver; aircraft tips laterally about its longitudinal axis (especially in turning)\n",
      "Synset('bank.v.01') tip laterally\n",
      "Synset('bank.v.02') enclose with a bank\n",
      "Synset('bank.v.03') do business with a bank or keep an account at a bank\n",
      "Synset('bank.v.04') act as the banker in a game or in gambling\n",
      "Synset('bank.v.05') be in the banking business\n",
      "Synset('deposit.v.02') put into a bank account\n",
      "Synset('bank.v.07') cover with ashes so to control the rate of burning\n",
      "Synset('trust.v.01') have confidence or faith in\n"
     ]
    }
   ],
   "source": [
    "## We can see different senses for the word bank from wordnet\n",
    "for sense in wordnet.synsets('bank'):\n",
    "    print(sense, sense.definition())"
   ]
  },
  {
   "cell_type": "code",
   "execution_count": 28,
   "metadata": {},
   "outputs": [
    {
     "data": {
      "text/plain": [
       "'a container (usually with a slot in the top) for keeping money at home'"
      ]
     },
     "execution_count": 28,
     "metadata": {},
     "output_type": "execute_result"
    }
   ],
   "source": [
    "# Lets use Lesk for find the most appropriate Sense\n",
    "lesk(sentence.split(), \"bank\").definition()"
   ]
  }
 ],
 "metadata": {
  "kernelspec": {
   "display_name": "Python 3",
   "language": "python",
   "name": "python3"
  },
  "language_info": {
   "codemirror_mode": {
    "name": "ipython",
    "version": 3
   },
   "file_extension": ".py",
   "mimetype": "text/x-python",
   "name": "python",
   "nbconvert_exporter": "python",
   "pygments_lexer": "ipython3",
   "version": "3.7.0"
  }
 },
 "nbformat": 4,
 "nbformat_minor": 2
}
